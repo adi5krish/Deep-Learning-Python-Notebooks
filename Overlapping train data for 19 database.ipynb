{
 "cells": [
  {
   "cell_type": "code",
   "execution_count": 2,
   "metadata": {},
   "outputs": [],
   "source": [
    "import numpy as np\n",
    "import os\n",
    "from scipy.io import loadmat,savemat\n",
    "import hdf5storage\n",
    "\n",
    "frame_size = 100\n",
    "frame_shift = 50\n",
    "\n",
    "genuine_features_path = 'E:\\\\Aditya\\\\CQCC\\\\Train'\n",
    "gen1File = 'genuine_1990.mat'\n",
    "#gen2File = 'genuine_2.mat'\n",
    "database_path = 'E:\\\\Aditya\\\\CQCC\\\\overlapData_90D'\n",
    "file_path = 'E:\\\\Aditya\\\\CQCC'"
   ]
  },
  {
   "cell_type": "raw",
   "metadata": {},
   "source": [
    "spoof_features_path = 'I:\\\\Aditya\\\\ASVspoof2019_CMPOC_CMVN_90dim\\\\90D'\n",
    "#gen1File = 'gen1.mat'\n",
    "#gen2File = 'gen2.mat'\n",
    "database_path = 'I:\\\\Aditya\\\\ASVspoof2019_CMPOC_CMVN_90dim\\\\90D\\\\overlapData_90D'"
   ]
  },
  {
   "cell_type": "code",
   "execution_count": 4,
   "metadata": {},
   "outputs": [
    {
     "name": "stdout",
     "output_type": "stream",
     "text": [
      "['__header__', '__version__', '__globals__', 'genuineFeatureCell']\n",
      "(5400, 1)\n",
      "(90, 357)\n"
     ]
    }
   ],
   "source": [
    "genuine1 = loadmat(os.path.join(genuine_features_path,gen1File))\n",
    "keys = list(genuine1.keys())\n",
    "\n",
    "print(keys)\n",
    "position = len(keys) - 1\n",
    "genuine1 = genuine1[keys[position]]\n",
    "print(genuine1.shape)\n",
    "print(genuine1[0].item().shape)"
   ]
  },
  {
   "cell_type": "raw",
   "metadata": {},
   "source": [
    "genuine2 = loadmat(os.path.join(genuine_features_path,gen1File))\n",
    "#print(genuine)\n",
    "\n",
    "keys = list(genuine2.keys())\n",
    "print(keys)\n",
    "position = len(keys) - 1\n",
    "genuine2 = genuine2[keys[position]]\n",
    "print(genuine2.shape)"
   ]
  },
  {
   "cell_type": "raw",
   "metadata": {},
   "source": [
    "print(genuine2[0].item().shape)"
   ]
  },
  {
   "cell_type": "code",
   "execution_count": 5,
   "metadata": {},
   "outputs": [
    {
     "ename": "NameError",
     "evalue": "name 'total' is not defined",
     "output_type": "error",
     "traceback": [
      "\u001b[1;31m---------------------------------------------------------------------------\u001b[0m",
      "\u001b[1;31mNameError\u001b[0m                                 Traceback (most recent call last)",
      "\u001b[1;32m<ipython-input-5-84a625907ad8>\u001b[0m in \u001b[0;36m<module>\u001b[1;34m()\u001b[0m\n\u001b[0;32m     54\u001b[0m     \u001b[0mindex\u001b[0m \u001b[1;33m=\u001b[0m \u001b[0mindex\u001b[0m\u001b[1;33m+\u001b[0m\u001b[1;36m1\u001b[0m\u001b[1;33m\u001b[0m\u001b[0m\n\u001b[0;32m     55\u001b[0m     \u001b[1;31m#print(context_feature.shape)\u001b[0m\u001b[1;33m\u001b[0m\u001b[1;33m\u001b[0m\u001b[0m\n\u001b[1;32m---> 56\u001b[1;33m \u001b[0mprint\u001b[0m\u001b[1;33m(\u001b[0m\u001b[0mtotal\u001b[0m\u001b[1;33m)\u001b[0m\u001b[1;33m\u001b[0m\u001b[0m\n\u001b[0m\u001b[0;32m     57\u001b[0m \u001b[1;33m\u001b[0m\u001b[0m\n",
      "\u001b[1;31mNameError\u001b[0m: name 'total' is not defined"
     ]
    }
   ],
   "source": [
    "#genuine[0].item().shape[1]\n",
    "# total = 0\n",
    "index = 0\n",
    "\n",
    "#frame_size = 100\n",
    "#frame_shift = 10\n",
    "\n",
    "temporary = os.path.join(file_path,'temp_overlap_90D')\n",
    "\n",
    "if not os.path.exists(temporary):\n",
    "    os.makedirs(temporary)\n",
    "\n",
    "for i in range(genuine1.shape[0]): #genuine.shape[0]):\n",
    "    featureMatrix = genuine1[i].item().T\n",
    "    frames = featureMatrix.shape[0]\n",
    "    k = 0\n",
    "    \n",
    "    context_feature = []\n",
    "    diff_frame = int(np.ceil(((frames - frame_size)+1)/frame_shift))\n",
    "    \n",
    "    if(diff_frame == 0):\n",
    "        diff_frame = 1\n",
    "        \n",
    "    if(diff_frame>=0):\n",
    "        \n",
    "        for j in range(diff_frame):\n",
    "            feature = featureMatrix[k:k+frame_size]\n",
    "            k = k+frame_shift\n",
    "            \n",
    "            if((k+frame_size)>frames):\n",
    "                xtra = (k+frame_size)-frames\n",
    "                padding_value = np.zeros([1,featureMatrix.shape[1]])\n",
    "                feature = featureMatrix[k:frames]\n",
    "                \n",
    "                for pad in range(xtra):\n",
    "                    feature = np.append(feature,padding_value,axis = 0)\n",
    "            feature = feature.T\n",
    "            context_feature.append(feature)\n",
    "    else:\n",
    "        context_feature = featureMatrix\n",
    "        padding_frame_no = frame_size - frames\n",
    "        padding_value = np.zeros([1,featureMatrix.shape[1]])\n",
    "        \n",
    "        for pad in range(padding_frame_no):\n",
    "            context_feature = np.append(context_feature,padding_value,axis = 0)\n",
    "        context_feature = context_feature.T\n",
    "        context_feature = context_feature.reshape([1,context_feature.shape[0],context_feature.shape[1]])\n",
    "        #print(context_feature.shape)    \n",
    "    context_feature = np.array(context_feature)\n",
    "#     total = total+context_feature.shape[0]\n",
    "    label = np.array([1,0]).reshape([1,2])\n",
    "    np.save(os.path.join(temporary,\"features_\"+str(index+1)), context_feature)\n",
    "    np.save(os.path.join(temporary,\"labels_\"+str(index+1)), np.tile(label,[context_feature.shape[0],1]))\n",
    "    index = index+1\n",
    "    #print(context_feature.shape)\n",
    "print(total)\n",
    "    "
   ]
  },
  {
   "cell_type": "raw",
   "metadata": {},
   "source": [
    "\n",
    "for i in range(genuine2.shape[0]): #genuine.shape[0]):\n",
    "    featureMatrix = genuine2[i].item().T\n",
    "    frames = featureMatrix.shape[0]\n",
    "    k = 0\n",
    "    \n",
    "    context_feature = []\n",
    "    diff_frame = int(np.ceil(((frames - frame_size)+1)/frame_shift))\n",
    "    \n",
    "    if(diff_frame == 0):\n",
    "        diff_frame = 1\n",
    "        \n",
    "    if(diff_frame>=0):\n",
    "        \n",
    "        for j in range(diff_frame):\n",
    "            feature = featureMatrix[k:k+frame_size]\n",
    "            k = k+frame_shift\n",
    "            \n",
    "            if((k+frame_size)>frames):\n",
    "                xtra = (k+frame_size)-frames\n",
    "                padding_value = np.zeros([1,featureMatrix.shape[1]])\n",
    "                feature = featureMatrix[k:frames]\n",
    "                \n",
    "                for pad in range(xtra):\n",
    "                    feature = np.append(feature,padding_value,axis = 0)\n",
    "            feature = feature.T\n",
    "            context_feature.append(feature)\n",
    "    else:\n",
    "        context_feature = featureMatrix\n",
    "        padding_frame_no = frame_size - frames\n",
    "        padding_value = np.zeros([1,featureMatrix.shape[1]])\n",
    "        \n",
    "        for pad in range(padding_frame_no):\n",
    "            context_feature = np.append(context_feature,padding_value,axis = 0)\n",
    "        context_feature = context_feature.T\n",
    "        context_feature = context_feature.reshape([1,context_feature.shape[0],context_feature.shape[1]])\n",
    "        #print(context_feature.shape)  \n",
    "        \n",
    "    context_feature = np.array(context_feature)\n",
    "    total = total+context_feature.shape[0]\n",
    "    label = np.array([1,0]).reshape([1,2])\n",
    "    np.save(os.path.join(temporary,\"features_\"+str(index+1)), context_feature)\n",
    "    np.save(os.path.join(temporary,\"labels_\"+str(index+1)), np.tile(label,[context_feature.shape[0],1]))\n",
    "    index = index+1\n",
    "    #print(context_feature.shape)\n",
    "print(total)"
   ]
  },
  {
   "cell_type": "code",
   "execution_count": 3,
   "metadata": {},
   "outputs": [
    {
     "name": "stdout",
     "output_type": "stream",
     "text": [
      "[44615, 51891, 6721, 37261, 16833, 36645, 1294, 11743, 48031, 40238]\n"
     ]
    }
   ],
   "source": [
    "total = 54000\n",
    "\n",
    "import random as rand\n",
    "randSet = rand.sample(range(1,total+1),total)\n",
    "print(randSet[0:10])\n",
    "if not os.path.exists(database_path):\n",
    "    os.makedirs(database_path)\n",
    "    \n",
    "temporary = 'G:\\Aditya\\CQCC\\\\temp_overlap_90D'"
   ]
  },
  {
   "cell_type": "code",
   "execution_count": 4,
   "metadata": {},
   "outputs": [
    {
     "name": "stdout",
     "output_type": "stream",
     "text": [
      "220\n"
     ]
    }
   ],
   "source": [
    "batch = np.zeros(shape = [2048,90,100])\n",
    "batchLabel = np.zeros(shape = [2048,2])\n",
    "size = 0\n",
    "batchNo = 0\n",
    "\n",
    "for i in randSet:\n",
    "    feature = np.load(os.path.join(temporary,\"features_\"+str(i)+\".npy\"))\n",
    "    label = np.load(os.path.join(temporary,\"labels_\"+str(i)+\".npy\"))\n",
    "    #print(feature.shape)\n",
    "    \n",
    "    if(feature.shape[0] == 0):\n",
    "        #print(i)\n",
    "        continue\n",
    "\n",
    "        \n",
    "    if(size + feature.shape[0] < 2048):\n",
    "        batch[size : size + feature.shape[0]] = feature\n",
    "        batchLabel[size : size + feature.shape[0]] = label\n",
    "        \n",
    "        size = size+feature.shape[0]\n",
    "    \n",
    "    elif(size+feature.shape[0] >= 2048):\n",
    "        batch[size : ] = feature[ : 2048-size]\n",
    "        batchLabel[size : ] = label[ : 2048-size]\n",
    "        \n",
    "        batchNo = batchNo + 1\n",
    "        #print(batchNo)\n",
    "        \n",
    "        np.save(os.path.join(database_path,\"batch_\"+str(batchNo)),batch)\n",
    "        np.save(os.path.join(database_path,\"label_\"+str(batchNo)),batchLabel)\n",
    "        \n",
    "        batch = np.zeros(shape=[2048,90,100])\n",
    "        batchLabel = np.zeros(shape = [2048,2])\n",
    "            \n",
    "        batch[: size+feature.shape[0] - 2048] = feature[ 2048 - size: ]\n",
    "        batchLabel[ : size+feature.shape[0] - 2048] = label[ 2048 - size : ]\n",
    "            \n",
    "        size = size+feature.shape[0] - 2048\n",
    "            \n",
    "print(batchNo)\n",
    "\n",
    "if(size>0):\n",
    "    np.save(os.path.join(database_path,\"batch_\"+str(batchNo)), batch)\n",
    "    np.save(os.path.join(database_path,\"label_\"+str(batchNo)),batchLabel)"
   ]
  },
  {
   "cell_type": "code",
   "execution_count": null,
   "metadata": {},
   "outputs": [],
   "source": []
  }
 ],
 "metadata": {
  "kernelspec": {
   "display_name": "Python 3",
   "language": "python",
   "name": "python3"
  },
  "language_info": {
   "codemirror_mode": {
    "name": "ipython",
    "version": 3
   },
   "file_extension": ".py",
   "mimetype": "text/x-python",
   "name": "python",
   "nbconvert_exporter": "python",
   "pygments_lexer": "ipython3",
   "version": "3.6.3"
  }
 },
 "nbformat": 4,
 "nbformat_minor": 2
}
