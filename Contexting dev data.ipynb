{
 "cells": [
  {
   "cell_type": "code",
   "execution_count": 1,
   "metadata": {},
   "outputs": [],
   "source": [
    "import numpy as np\n",
    "import os\n",
    "from scipy.io import loadmat,savemat\n",
    "import hdf5storage\n",
    "context = 5\n",
    "\n",
    "features_path = 'C:\\\\Users\\\\HIMANSHU\\\\Desktop\\\\Aditya\\\\ASVspoof2017_CFCC_IF_CMVN\\\\117D'\n",
    "genuineFilename = 'eval_genuine_17117.mat'\n",
    "#spoofFilename = 'dev_spoof_17117.mat'\n",
    "databasePath = 'C:\\\\Users\\\\HIMANSHU\\\\Desktop\\\\Aditya\\\\ASVspoof2017_CFCC_IF_CMVN\\\\evalcontextData_117D'\n",
    "#filePath = 'C:\\\\Users\\\\HIMANSHU\\\\Desktop\\\\Aditya\\\\ASVspoof2017_CMPOC_CMVN'\n",
    "\n",
    "contextValues = [i for i in range(-context,context+1)]"
   ]
  },
  {
   "cell_type": "code",
   "execution_count": 2,
   "metadata": {},
   "outputs": [
    {
     "name": "stdout",
     "output_type": "stream",
     "text": [
      "(1298, 1)\n",
      "(117, 164)\n"
     ]
    }
   ],
   "source": [
    "genuine = hdf5storage.loadmat(os.path.join(features_path,genuineFilename))\n",
    "\n",
    "keys = list(genuine.keys())\n",
    "position = len(keys) - 1\n",
    "\n",
    "genuine = genuine[keys[position]]\n",
    "print(genuine.shape)\n",
    "print(genuine[0].item().shape)"
   ]
  },
  {
   "cell_type": "raw",
   "metadata": {},
   "source": [
    "spoof = hdf5storage.loadmat(os.path.join(features_path,spoofFilename))\n",
    "\n",
    "keys = list(spoof.keys())\n",
    "position = len(keys) - 1\n",
    "#print(position)\n",
    "spoof = spoof[keys[position]]\n",
    "print(spoof.shape)\n",
    "print(spoof[0].item().shape)\n"
   ]
  },
  {
   "cell_type": "code",
   "execution_count": 4,
   "metadata": {},
   "outputs": [
    {
     "name": "stdout",
     "output_type": "stream",
     "text": [
      "1298\n"
     ]
    }
   ],
   "source": [
    "# featureSize = genuine[0].item().shape[0] * (2 * (context+1))\n",
    "\n",
    "index = 0\n",
    "total = 0\n",
    "\n",
    "if not os.path.exists(databasePath):\n",
    "    os.makedirs(databasePath)\n",
    "\n",
    "for i in range(genuine.shape[0]):\n",
    "    featureMatrix = genuine[i].item().T\n",
    "    frames = featureMatrix.shape[0]\n",
    "    \n",
    "    contextFeature = []\n",
    "    \n",
    "    for j in range(context,frames-context):\n",
    "        feature = np.array([featureMatrix[j+k] for k in contextValues])\n",
    "        feature = feature.reshape([-1])\n",
    "        contextFeature.append(feature)\n",
    "    \n",
    "    contextFeature = np.array(contextFeature)\n",
    "    total = total + contextFeature.shape[0]\n",
    "    label = np.array([1,0]).reshape([1,2])\n",
    "    np.save(os.path.join(databasePath,\"features\"+str(index+1)),contextFeature)\n",
    "    np.save(os.path.join(databasePath,\"labels\"+str(index+1)),np.tile(label,[contextFeature.shape[0],1]))\n",
    "    index = index+1\n",
    "print(index)\n",
    "    "
   ]
  },
  {
   "cell_type": "raw",
   "metadata": {},
   "source": [
    "# featureSize = spoof[0].item().shape[0] * (2* (context + 1))\n",
    "\n",
    "\n",
    "for i in range(spoof.shape[0]):\n",
    "    featureMatrix = spoof[i].item().T\n",
    "    frames = featureMatrix.shape[0]\n",
    "    \n",
    "    contextFeature = []\n",
    "    \n",
    "    for j in range(context,frames-context):\n",
    "        feature = np.array([featureMatrix[j+k] for k in contextValues])\n",
    "        feature = feature.reshape([-1])\n",
    "        contextFeature.append(feature)\n",
    "    contextFeature = np.array(contextFeature)\n",
    "    total = total+contextFeature.shape[0]\n",
    "    label = np.array([0,1]).reshape([1,2])\n",
    "    np.save(os.path.join(databasePath,\"features\"+str(index+1)),contextFeature)\n",
    "    np.save(os.path.join(databasePath,\"labels\"+str(index+1)), np.tile(label, [contextFeature.shape[0],1]))\n",
    "    index = index+1\n",
    "print(index)"
   ]
  },
  {
   "cell_type": "code",
   "execution_count": null,
   "metadata": {},
   "outputs": [],
   "source": [
    "c = [-2,-1,0,1,2]\n",
    "import random \n",
    "import numpy as np\n",
    "f = np.random.rand(5,6)\n",
    "#print(f)"
   ]
  },
  {
   "cell_type": "code",
   "execution_count": null,
   "metadata": {},
   "outputs": [],
   "source": [
    "g = np.array([ f[2+k] for k in c])\n",
    "g = g.reshape([-1])\n",
    "print(g)"
   ]
  },
  {
   "cell_type": "code",
   "execution_count": null,
   "metadata": {},
   "outputs": [],
   "source": [
    "g = np.array([k for k in c])\n",
    "print(g.reshape([5,1]).shape)"
   ]
  },
  {
   "cell_type": "code",
   "execution_count": null,
   "metadata": {},
   "outputs": [],
   "source": []
  }
 ],
 "metadata": {
  "kernelspec": {
   "display_name": "Python 3",
   "language": "python",
   "name": "python3"
  },
  "language_info": {
   "codemirror_mode": {
    "name": "ipython",
    "version": 3
   },
   "file_extension": ".py",
   "mimetype": "text/x-python",
   "name": "python",
   "nbconvert_exporter": "python",
   "pygments_lexer": "ipython3",
   "version": "3.6.3"
  }
 },
 "nbformat": 4,
 "nbformat_minor": 2
}
