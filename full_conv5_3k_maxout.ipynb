{
 "cells": [
  {
   "cell_type": "code",
   "execution_count": 1,
   "metadata": {},
   "outputs": [],
   "source": [
    "import tensorflow as tf\n",
    "import numpy as np\n",
    "import os\n",
    "import time"
   ]
  },
  {
   "cell_type": "code",
   "execution_count": 2,
   "metadata": {},
   "outputs": [],
   "source": [
    "# IN and Out variables for data \n",
    "dimension = 20\n",
    "fps = 100 #frames per second\n",
    "filters = 128\n",
    "\n",
    "x = tf.placeholder(tf.float32, [None, dimension, fps])  #Inputs\n",
    "y = tf.placeholder(tf.float32, [None, 2])   #Labels\n",
    "keep_prob = tf.placeholder(dtype= tf.float32)"
   ]
  },
  {
   "cell_type": "code",
   "execution_count": 3,
   "metadata": {},
   "outputs": [
    {
     "name": "stdout",
     "output_type": "stream",
     "text": [
      "Tensor(\"conv1_caps/BiasAdd:0\", shape=(?, 1, 98, 128), dtype=float32)\n",
      "Tensor(\"max_out1/Max:0\", shape=(?, 1, 98, 64), dtype=float32)\n"
     ]
    }
   ],
   "source": [
    "input_x = tf.reshape( x, shape = [-1, dimension, fps, 1])\n",
    "\n",
    "conv1 = tf.layers.conv2d( input_x, \n",
    "                                filters = 128,\n",
    "                                kernel_size = [20, 3],\n",
    "                                padding = 'VALID',\n",
    "                                name = \"conv1_caps\")\n",
    "print(conv1)\n",
    "\n",
    "max_out1 = tf.contrib.layers.maxout( conv1, \n",
    "                                  num_units = 64,\n",
    "                                  axis = -1,\n",
    "                                  scope = \"max_out1\")\n",
    "print(max_out1)"
   ]
  },
  {
   "cell_type": "code",
   "execution_count": 4,
   "metadata": {},
   "outputs": [
    {
     "name": "stdout",
     "output_type": "stream",
     "text": [
      "Tensor(\"conv2_caps/BiasAdd:0\", shape=(?, 1, 96, 128), dtype=float32)\n",
      "Tensor(\"max_out2/Max:0\", shape=(?, 1, 96, 64), dtype=float32)\n"
     ]
    }
   ],
   "source": [
    "conv2 = tf.layers.conv2d( max_out1, \n",
    "                                filters = 128,\n",
    "                                kernel_size = [1, 3],\n",
    "                                padding = 'VALID',\n",
    "                                name = \"conv2_caps\")\n",
    "print(conv2)\n",
    "\n",
    "max_out2 = tf.contrib.layers.maxout( conv2,\n",
    "                                   num_units = 64,\n",
    "                                   axis = -1,\n",
    "                                   scope = \"max_out2\")\n",
    "print(max_out2)"
   ]
  },
  {
   "cell_type": "code",
   "execution_count": 5,
   "metadata": {},
   "outputs": [
    {
     "name": "stdout",
     "output_type": "stream",
     "text": [
      "Tensor(\"conv3_caps/BiasAdd:0\", shape=(?, 1, 94, 128), dtype=float32)\n",
      "Tensor(\"max_out3/Max:0\", shape=(?, 1, 94, 64), dtype=float32)\n"
     ]
    }
   ],
   "source": [
    "conv3 = tf.layers.conv2d( max_out2,\n",
    "                                filters = 128,\n",
    "                                kernel_size = [1, 3],\n",
    "                                padding = 'VALID',\n",
    "                                name = \"conv3_caps\")\n",
    "print(conv3)\n",
    "\n",
    "\n",
    "\n",
    "max_out3 = tf.contrib.layers.maxout(conv3, \n",
    "                                   num_units = 64,\n",
    "                                   axis = -1,\n",
    "                                   scope = \"max_out3\")\n",
    "print(max_out3)"
   ]
  },
  {
   "cell_type": "code",
   "execution_count": 6,
   "metadata": {},
   "outputs": [
    {
     "name": "stdout",
     "output_type": "stream",
     "text": [
      "Tensor(\"conv4_caps/BiasAdd:0\", shape=(?, 1, 47, 128), dtype=float32)\n",
      "Tensor(\"max_out4/Max:0\", shape=(?, 1, 47, 64), dtype=float32)\n"
     ]
    }
   ],
   "source": [
    "conv4 = tf.layers.conv2d( max_out3, \n",
    "                                filters = 128,\n",
    "                                kernel_size = [1,2],\n",
    "                                strides = 2,\n",
    "                                padding = \"VALID\",\n",
    "                                name = \"conv4_caps\")\n",
    "# epsilon = 1e-7\n",
    "# conv_out\n",
    "\n",
    "max_out4 = tf.contrib.layers.maxout( conv4,\n",
    "                                           num_units = 64,\n",
    "                                           axis = -1,\n",
    "                                           scope = \"max_out4\")\n",
    "print(conv4)\n",
    "print(max_out4)"
   ]
  },
  {
   "cell_type": "code",
   "execution_count": 7,
   "metadata": {},
   "outputs": [
    {
     "name": "stdout",
     "output_type": "stream",
     "text": [
      "Tensor(\"con5_caps/BiasAdd:0\", shape=(?, 1, 45, 128), dtype=float32)\n",
      "Tensor(\"max_out5/Max:0\", shape=(?, 1, 45, 64), dtype=float32)\n"
     ]
    }
   ],
   "source": [
    "conv5 = tf.layers.conv2d( max_out4, \n",
    "                                    filters = 128,\n",
    "                                    kernel_size = [1, 3],\n",
    "                                    padding = \"VALID\",\n",
    "                                    name = \"con5_caps\")\n",
    "print(conv5)\n",
    "\n",
    "max_out5 = tf.contrib.layers.maxout( conv5,\n",
    "                                           num_units = 64,\n",
    "                                           axis = -1,\n",
    "                                           scope = \"max_out5\")\n",
    "print(max_out5)"
   ]
  },
  {
   "cell_type": "code",
   "execution_count": 8,
   "metadata": {},
   "outputs": [
    {
     "name": "stdout",
     "output_type": "stream",
     "text": [
      "Tensor(\"conv6_caps/BiasAdd:0\", shape=(?, 1, 43, 128), dtype=float32)\n",
      "Tensor(\"max_out6/Max:0\", shape=(?, 1, 43, 64), dtype=float32)\n"
     ]
    }
   ],
   "source": [
    "conv6 = tf.layers.conv2d( max_out5, \n",
    "                                 filters = 128,\n",
    "                                 kernel_size = [1, 3],\n",
    "                                 padding = \"VALID\",\n",
    "                                 name = \"conv6_caps\")\n",
    "print(conv6)\n",
    "\n",
    "max_out6 = tf.contrib.layers.maxout(conv6,\n",
    "                                    num_units = 64,\n",
    "                                    axis = -1,\n",
    "                                    scope = \"max_out6\")\n",
    "print(max_out6)"
   ]
  },
  {
   "cell_type": "code",
   "execution_count": 9,
   "metadata": {},
   "outputs": [
    {
     "name": "stdout",
     "output_type": "stream",
     "text": [
      "Tensor(\"conv7_caps/BiasAdd:0\", shape=(?, 1, 21, 128), dtype=float32)\n",
      "Tensor(\"max_out7/Max:0\", shape=(?, 1, 21, 64), dtype=float32)\n"
     ]
    }
   ],
   "source": [
    "conv7 = tf.layers.conv2d( max_out6, \n",
    "                                 filters = 128,\n",
    "                                 kernel_size = [1, 2],\n",
    "                                 strides = [1, 2],\n",
    "                                 padding = \"VALID\",\n",
    "                                 name = \"conv7_caps\")\n",
    "print(conv7)\n",
    "\n",
    "max_out7 = tf.contrib.layers.maxout(conv7,\n",
    "                                    num_units = 64,\n",
    "                                    axis = -1,\n",
    "                                    scope = \"max_out7\")\n",
    "print(max_out7)"
   ]
  },
  {
   "cell_type": "raw",
   "metadata": {},
   "source": [
    "conv8 = tf.layers.conv2d( max_out7, \n",
    "                                 filters = 128,\n",
    "                                 kernel_size = [1, 3],\n",
    "                                 padding = \"VALID\",\n",
    "                                 name = \"conv8_caps\")\n",
    "print(conv8)\n",
    "\n",
    "max_out8 = tf.contrib.layers.maxout(conv8,\n",
    "                                    num_units = 64,\n",
    "                                    axis = -1,\n",
    "                                    scope = \"max_out8\")\n",
    "print(max_out8)"
   ]
  },
  {
   "cell_type": "raw",
   "metadata": {},
   "source": [
    "conv9 = tf.layers.conv2d( max_out8, \n",
    "                                 filters = 128,\n",
    "                                 kernel_size = [1, 3],\n",
    "                                 padding = \"VALID\",\n",
    "                                 name = \"conv9_caps\")\n",
    "print(conv9)\n",
    "\n",
    "max_out9 = tf.contrib.layers.maxout(conv9,\n",
    "                                    num_units = 64,\n",
    "                                    axis = -1,\n",
    "                                    scope = \"max_out9\")\n",
    "print(max_out9)"
   ]
  },
  {
   "cell_type": "code",
   "execution_count": 10,
   "metadata": {},
   "outputs": [
    {
     "data": {
      "text/plain": [
       "<tf.Tensor 'dropout/mul:0' shape=(?, 1, 21, 2) dtype=float32>"
      ]
     },
     "execution_count": 10,
     "metadata": {},
     "output_type": "execute_result"
    }
   ],
   "source": [
    "weights_conv10 = tf.get_variable( \"weights_conv10\", shape = [ 1, 1, 64, 2],\n",
    "                               initializer = tf.contrib.layers.xavier_initializer())\n",
    "bias_conv10 = tf.get_variable(\"bias_conv10\", shape = [2],\n",
    "                            initializer = tf.contrib.layers.xavier_initializer())\n",
    "\n",
    "conv10 = tf.nn.conv2d( max_out7, weights_conv10, strides = [1, 1, 1, 1], padding = \"VALID\")\n",
    "conv10_out = tf.nn.relu( conv10 + bias_conv10 )\n",
    "conv10_drop = tf.nn.dropout( conv10_out, keep_prob)\n",
    "conv10_drop"
   ]
  },
  {
   "cell_type": "code",
   "execution_count": 11,
   "metadata": {},
   "outputs": [
    {
     "data": {
      "text/plain": [
       "<tf.Tensor 'Relu_1:0' shape=(?, 1, 1, 2) dtype=float32>"
      ]
     },
     "execution_count": 11,
     "metadata": {},
     "output_type": "execute_result"
    }
   ],
   "source": [
    "#Final output layer\n",
    "weights_final = tf.get_variable( \"weights_final\", shape = [ 1, 17, 2, 2],\n",
    "                               initializer = tf.contrib.layers.xavier_initializer())\n",
    "bias_final = tf.get_variable(\"bias_final\", shape = [2],\n",
    "                            initializer = tf.contrib.layers.xavier_initializer())\n",
    "\n",
    "conv_final = tf.nn.conv2d( conv10_drop, weights_final, strides = [1, 1, 17, 1], padding = \"VALID\")\n",
    "conv_final = tf.nn.relu( conv_final + bias_final )\n",
    "conv_final"
   ]
  },
  {
   "cell_type": "code",
   "execution_count": 12,
   "metadata": {},
   "outputs": [],
   "source": [
    "final_output = tf.reshape(conv_final, shape = [-1, 2])\n",
    "\n",
    "output = tf.nn.softmax(final_output)"
   ]
  },
  {
   "cell_type": "code",
   "execution_count": 13,
   "metadata": {},
   "outputs": [],
   "source": [
    "# losses and optimizers\n",
    "\n",
    "cross_entropy = tf.reduce_mean( tf.nn.softmax_cross_entropy_with_logits_v2(labels = y, logits = final_output))\n",
    "optimizer = tf.train.AdamOptimizer(1e-4)\n",
    "train_step = optimizer.minimize(cross_entropy)\n",
    "\n",
    "correct_predictions = tf.equal( tf.argmax(output, 1), tf.argmax(y, 1))\n",
    "accuracy = tf.reduce_mean( tf.cast( correct_predictions, tf.float32 ))"
   ]
  },
  {
   "cell_type": "raw",
   "metadata": {},
   "source": [
    "# matric for testing on development \n",
    "\n",
    "test_features = []\n",
    "test_labels = []\n",
    "\n",
    "test_path =\"E:\\\\Hemlata_CSL\\\\MFCC\\\\CNN_input_dev_data\"\n",
    "\n",
    "for folders in os.listdir(test_path):\n",
    "    print(folders)\n",
    "    features = np.load(os.path.join(test_path, folders, \"feature_image.npy\"))\n",
    "    print(features.shape)\n",
    "    labels = np.load(os.path.join(test_path, folders, \"label_image.npy\"))\n",
    "    for i in range(labels.shape[0]):\n",
    "        test_features.append(features[i])\n",
    "        test_labels.append(labels[i])\n",
    "    \n",
    "test_features = np.array(test_features)\n",
    "test_labels = np.array(test_labels)\n",
    "print(test_features.shape)\n",
    "print(test_labels.shape)\n"
   ]
  },
  {
   "cell_type": "code",
   "execution_count": 14,
   "metadata": {},
   "outputs": [],
   "source": [
    "#initializing tensors using sessoion\n",
    "config = tf.ConfigProto()\n",
    "config.gpu_options.allow_growth=True\n",
    "session = tf.Session(config=config)\n",
    "\n",
    "init = tf.global_variables_initializer()\n",
    "saver = tf.train.Saver(max_to_keep=None)\n",
    "\n",
    "features_path = \"E:\\\\ShubhamMGDCC\\\\overlapData_20D\"\n",
    "development_path = \"E:\\\\ShubhamMGDCC\\\\20D\\\\devoverlapData_20D\"\n",
    "#evaluation_path = \"E:\\\\Hemlata_CSL\\\\MFCC\\\\CNN_input_testing_eval\"\n",
    "model_path = \"E:\\\\ShubhamMGDCC\\\\20D\\\\100_50_full_conv5_3k_maxout_2\\\\Models\\\\\"\n",
    "    \n",
    "dev_sp_path =\"E:\\\\ShubhamMGDCC\\\\20D\\\\100_50_full_conv5_3k_maxout_2\\\\dev\"\n",
    "#eva_sp_path = \"E:\\\\Hemlata_CSL\\\\MFCC\\\\4_conv\\\\eval\""
   ]
  },
  {
   "cell_type": "code",
   "execution_count": 15,
   "metadata": {},
   "outputs": [],
   "source": [
    "def cal_eer(scores_true, scores_false):\n",
    "    \n",
    "    \"\"\" Calculate EER\n",
    "        Args:\n",
    "            scores_true: A score list of positive samples\n",
    "            scores_false: A score list of negative samples\n",
    "        Return:\n",
    "            (EER, threshold)\n",
    "        Note:\n",
    "            Here, the threshold is set, and if the score is higher than or equal to the threshold,\n",
    "            the decision is passed, and the decision is rejected as below.\n",
    "    \"\"\"\n",
    "    min1 = min(scores_true)\n",
    "    min2 = min(scores_false)\n",
    "    low = min(min1, min2)\n",
    "    max1 = max(scores_true)\n",
    "    max2 = max(scores_false)\n",
    "    high = max(max1, max2)\n",
    "    FAR = -55\n",
    "    FRR = -55\n",
    "    mid = -100\n",
    "    # Bisection find threshold\n",
    "    while True:\n",
    "        bef_FAR = FAR \n",
    "        bef_FRR = FRR\n",
    "        bef_mid = mid\n",
    "        mid = (high + low) / 2\n",
    "        FRR = sum([1 for s in scores_true if s < mid]) / len(scores_true)\n",
    "        FAR = sum([1 for s in scores_false if s >= mid]) / len(scores_false)\n",
    "        #print(\"FRR  \",FRR,\" FAR   \",FAR,\"   mid   \",mid)\n",
    "\n",
    "        if abs(FRR - FAR) < 1e-7:\n",
    "            print(\"FRR  \",FRR,\" FAR   \",FAR,\"   mid   \",mid)\n",
    "            break\n",
    "\n",
    "        if FRR < FAR:\n",
    "            low = mid\n",
    "        else:\n",
    "            high = mid\n",
    "            \n",
    "        if bef_FAR == FAR :\n",
    "            if bef_FRR == FRR :\n",
    "                if bef_mid == mid :\n",
    "                    print(\"FRR  \",FRR,\" FAR   \",FAR,\"   mid   \",mid)\n",
    "                    break\n",
    "\n",
    "    EER  =  FRR\n",
    "    return EER, (high + low) / 2"
   ]
  },
  {
   "cell_type": "code",
   "execution_count": 16,
   "metadata": {},
   "outputs": [],
   "source": [
    "from scipy.io import savemat\n",
    "\n",
    "def get_EER(test_path, index, sp_path ):\n",
    "    scores = []\n",
    "    development_labels = []\n",
    "    probabilities = []\n",
    "\n",
    "    #test_path = \"C:\\\\Users\\\\project1\\\\Desktop\\\\Siva\\\\HT_IFCC_hemlata\\\\CNN_input_testing_dev\"\n",
    "    indexs = len(list(os.listdir(test_path)))//2\n",
    "    \n",
    "    for folders in range(1,indexs+1):\n",
    "        features = np.load(os.path.join(test_path, \"features_\"+str(folders)+\".npy\"))\n",
    "        labels = np.load(os.path.join(test_path, \"labels_\"+str(folders)+\".npy\"))\n",
    "        patches = labels.shape[0]\n",
    "        patch_prob = session.run(output, feed_dict = {x:features, keep_prob:1.0})\n",
    "        final_prob = np.zeros([2])\n",
    "        \n",
    "        for i in range(patches):\n",
    "            if(patch_prob[i][0] == 0):\n",
    "                patch_prob[i][0] = 1e-25\n",
    "            if(patch_prob[i][1] == 0):\n",
    "                patch_prob[i][1] = 1e-25\n",
    "                \n",
    "            final_prob[0] = final_prob[0] + np.log(patch_prob[i][0])\n",
    "            final_prob[1] = final_prob[1] + np.log(patch_prob[i][1])\n",
    "\n",
    "        final_prob = final_prob / patches\n",
    "        score = (final_prob[0]) - (final_prob[1])\n",
    "        audio_label = labels[0]\n",
    "\n",
    "        scores.append(score)\n",
    "        probabilities.append( np.mean(patch_prob, axis=0) )\n",
    "        development_labels.append( audio_label )\n",
    "\n",
    "    scores = np.array(scores)\n",
    "    development_labels = np.array(development_labels)\n",
    "    probabilities = np.array(probabilities)\n",
    "\n",
    "    scores_geniue = []\n",
    "    scores_spoof = []\n",
    "    prob_genuine = []\n",
    "    prob_spoof = []\n",
    "\n",
    "    for i in range(development_labels.shape[0]):\n",
    "        if development_labels[i][0] == 1 :\n",
    "            scores_geniue.append(scores[i])\n",
    "            prob_genuine.append(probabilities[i])\n",
    "        elif development_labels[i][1] == 1:\n",
    "            scores_spoof.append(scores[i])\n",
    "            prob_spoof.append(probabilities[i])\n",
    "\n",
    "    scores_geniue = np.array(scores_geniue)\n",
    "    scores_spoof = np.array(scores_spoof)\n",
    "    prob_genuine = np.array(prob_genuine)\n",
    "    prob_spoof = np.array(prob_spoof)\n",
    "    \n",
    "    a,b = cal_eer(scores_geniue, scores_spoof)\n",
    "    \n",
    "    score_path = os.path.join(sp_path, \"scores\")\n",
    "    prob_path = os.path.join(sp_path, \"probabilities\")\n",
    "    \n",
    "    if not os.path.exists(score_path):\n",
    "        os.makedirs(score_path)\n",
    "    if not os.path.exists(prob_path):\n",
    "        os.makedirs(prob_path)\n",
    "        \n",
    "    prob_file = \"probabilities_\"+str(index)\n",
    "    sc_file = \"scores_\"+str(index)\n",
    "    savemat(os.path.join(score_path, sc_file), { 'genuine':scores_geniue, 'spoof':scores_spoof, 'eer' : a*100 })\n",
    "    savemat(os.path.join(prob_path, prob_file), { 'genuine':prob_genuine, 'spoof':prob_spoof })\n",
    "    \n",
    "    return a"
   ]
  },
  {
   "cell_type": "code",
   "execution_count": 17,
   "metadata": {},
   "outputs": [
    {
     "name": "stdout",
     "output_type": "stream",
     "text": [
      "start\n",
      "complete\n"
     ]
    }
   ],
   "source": [
    "print(\"start\")\n",
    "time.sleep(20)\n",
    "print(\"complete\")"
   ]
  },
  {
   "cell_type": "code",
   "execution_count": null,
   "metadata": {
    "scrolled": true
   },
   "outputs": [
    {
     "name": "stdout",
     "output_type": "stream",
     "text": [
      "iteration   1\n",
      "FRR   0.0  FAR    1.0    mid    0.0863766074180603\n",
      " develop eer   0.0\n",
      "\n",
      "INFO:tensorflow:E:\\ShubhamMGDCC\\20D\\100_50_full_conv5_3k_maxout_2\\Models\\0 is not in all_model_checkpoint_paths. Manually adding it.\n",
      "iteration   2\n",
      "FRR   0.0  FAR    1.0    mid    0.05072063207626343\n",
      " develop eer   0.0\n",
      "\n",
      "INFO:tensorflow:E:\\ShubhamMGDCC\\20D\\100_50_full_conv5_3k_maxout_2\\Models\\1 is not in all_model_checkpoint_paths. Manually adding it.\n",
      "iteration   3\n"
     ]
    }
   ],
   "source": [
    "#Training and testing accuracy\n",
    "session.run(init)\n",
    "\n",
    "if not os.path.exists(model_path):\n",
    "    os.makedirs(model_path)\n",
    "    \n",
    "if not os.path.exists(dev_sp_path):\n",
    "    os.makedirs(dev_sp_path)\n",
    "    \n",
    "batches = (len(list(os.listdir(features_path))))//2\n",
    "    \n",
    "for i in range(0,50):\n",
    "    for j in range(1,batches+1):  #number of batches\n",
    "        filename = \"batch_\"+str(j)+\".npy\"\n",
    "        labelsname= \"label_\"+str(j)+\".npy\"\n",
    "        \n",
    "        features = np.load(os.path.join(features_path, filename))\n",
    "        labels = np.load(os.path.join(features_path, labelsname))\n",
    "\n",
    "        train_step.run(session = session,feed_dict={ x:features[:1024], y:labels[:1024], keep_prob:1.0})\n",
    "        train_step.run(session = session,feed_dict={ x:features[1024:], y:labels[1024:], keep_prob:1.0})\n",
    "        \n",
    "    print(\"iteration  \",(i+1))\n",
    "    eer_dev = get_EER(development_path, (i+1), dev_sp_path)\n",
    "    print(\" develop eer  \",eer_dev)\n",
    "    print()\n",
    "    save_path = saver.save(session, model_path +str(i))\n",
    "    "
   ]
  },
  {
   "cell_type": "code",
   "execution_count": null,
   "metadata": {},
   "outputs": [],
   "source": [
    "config = tf.ConfigProto()\n",
    "config.gpu_options.allow_growth=True\n",
    "\n",
    "with tf.Session(config=config) as session:\n",
    "    for i in range(49,80):\n",
    "        saver.restore(session, model_path +str(i))\n",
    "        print(\"iteration  \",(i+1))\n",
    "        eer_dev = get_EER(development_path, (i+1), dev_sp_path)\n",
    "        print(\" develop eer  \",eer_dev)\n",
    "        print()\n",
    "        save_path = saver.save(session, model_path +str(i+1))"
   ]
  },
  {
   "cell_type": "raw",
   "metadata": {
    "scrolled": true
   },
   "source": [
    "saver.restore(session, model_path +str(24))\n",
    "batches = (len(list(os.listdir(features_path))))//2\n",
    "    \n",
    "for i in range(25,50):\n",
    "    for j in range(1,batches+1):  #number of batches\n",
    "        filename = \"batch_\"+str(j)+\".npy\"\n",
    "        labelsname= \"label_\"+str(j)+\".npy\"\n",
    "        \n",
    "        features = np.load(os.path.join(features_path, filename))\n",
    "        labels = np.load(os.path.join(features_path, labelsname))\n",
    "\n",
    "        train_step.run(session = session,feed_dict={ x:features[:1024], y:labels[:1024], keep_prob:1.0})\n",
    "        train_step.run(session = session,feed_dict={ x:features[1024:], y:labels[1024:], keep_prob:1.0})\n",
    "        \n",
    "    print(\"iteration   \",(i+1),\"\\n\")\n",
    "    #test_accuracy = accuracy.eval(session = session, feed_dict = { x:test_features, y:test_labels, keep_prob:1.0 })\n",
    "    #print(\"iteration   \",(i+1),\"   dev_accuracy    \",test_accuracy)    \n",
    "    #print()\n",
    "    save_path = saver.save(session, model_path +str(i))\n",
    "    "
   ]
  },
  {
   "cell_type": "raw",
   "metadata": {
    "scrolled": true
   },
   "source": [
    "config = tf.ConfigProto()\n",
    "config.gpu_options.allow_growth=True\n",
    "\n",
    "with tf.Session(config=config) as session:\n",
    "    for i in range(25,50):\n",
    "        saver.restore(session, model_path +str(i))\n",
    "        print(\"iteration  \",(i+1))\n",
    "        eer_dev = get_EER(development_path, (i+1), dev_sp_path)\n",
    "        print(\" develop eer  \",eer_dev)\n",
    "        print()"
   ]
  },
  {
   "cell_type": "raw",
   "metadata": {},
   "source": [
    "from scipy.io import savemat\n",
    "\n",
    "def get_ind_score(test_path, index, sp_path, tag ):\n",
    "    two_scores = []\n",
    "    \n",
    "    for folders in os.listdir(test_path):\n",
    "        features = np.load(os.path.join(test_path, folders, \"feature_image.npy\"))\n",
    "        labels = np.load(os.path.join(test_path, folders, \"label_image.npy\"))\n",
    "        patches = labels.shape[0]\n",
    "        patch_prob = session.run(output1, feed_dict = {x:features, keep_prob : 1.0})\n",
    "        final_prob = np.zeros([2])\n",
    "        \n",
    "        for i in range(patches):\n",
    "            if(patch_prob[i][0] == 0):\n",
    "                patch_prob[i][0] = 1e-25\n",
    "            if(patch_prob[i][1] == 0):\n",
    "                patch_prob[i][1] = 1e-25\n",
    "                \n",
    "            final_prob[0] = final_prob[0] + np.log(patch_prob[i][0])\n",
    "            final_prob[1] = final_prob[1] + np.log(patch_prob[i][1])\n",
    "\n",
    "        final_prob = final_prob / patches\n",
    "        two_scores.append(final_prob)\n",
    "\n",
    "    two_scores = np.array(two_scores)\n",
    "    score_path = os.path.join(sp_path, tag+\"_ind_scores\")\n",
    "    \n",
    "    if not os.path.exists(score_path):\n",
    "        os.makedirs(score_path)\n",
    "        \n",
    "    sc_file = \"llk_genuine_llk_spoof_\"+tag+\"_\"+str(index)\n",
    "    savemat(os.path.join(score_path, sc_file), {'ind_scores':two_scores} )\n",
    "    print(\"Done\")\n",
    "    \n",
    "    \n",
    "config = tf.ConfigProto()\n",
    "config.gpu_options.allow_growth=True\n",
    "\n",
    "dev_ite  = 90\n",
    "eval_ite = \n",
    "with tf.Session() as session:\n",
    "    saver.restore(session, model_path +str(dev_ite-1))\n",
    "    print(\"iteration  \",(dev_ite))\n",
    "    get_ind_score(development_path, (dev_ite), dev_sp_path,\"dev\")\n",
    "    \n",
    "    saver.restore(session, model_path +str(eval_ite-1))\n",
    "    print(\"iteration  \",(eval_ite))\n",
    "    get_ind_score(evaluation_path, (eval_ite), eva_sp_path,\"eval\")\n",
    "    \n",
    "    print()    \n",
    "    "
   ]
  },
  {
   "cell_type": "raw",
   "metadata": {},
   "source": [
    "with tf.Session() as session:\n",
    "    for i in range(55, 75):\n",
    "        saver.restore(session, model_path +str(i))\n",
    "        print(\"iteration  \",(i+1))\n",
    "        eer_eval = get_EER(evaluation_path, (i+1), eva_sp_path)\n",
    "        print(\" evaluat eer  \",eer_eval)\n",
    "        print()"
   ]
  }
 ],
 "metadata": {
  "kernelspec": {
   "display_name": "Python 3",
   "language": "python",
   "name": "python3"
  },
  "language_info": {
   "codemirror_mode": {
    "name": "ipython",
    "version": 3
   },
   "file_extension": ".py",
   "mimetype": "text/x-python",
   "name": "python",
   "nbconvert_exporter": "python",
   "pygments_lexer": "ipython3",
   "version": "3.6.8"
  }
 },
 "nbformat": 4,
 "nbformat_minor": 2
}
