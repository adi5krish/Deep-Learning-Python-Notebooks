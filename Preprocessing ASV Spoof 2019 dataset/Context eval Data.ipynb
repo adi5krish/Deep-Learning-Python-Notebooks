{
 "cells": [
  {
   "cell_type": "code",
   "execution_count": 28,
   "metadata": {},
   "outputs": [],
   "source": [
    "import numpy as np\n",
    "import os\n",
    "from scipy.io import savemat,loadmat\n",
    "import hdf5storage\n",
    "\n",
    "context = 5\n",
    "features_path = 'C:\\\\Users\\\\HIMANSHU\\\\Desktop\\\\Aditya\\\\ASVspoof2017_CFCC_IF_CMVN\\\\117D'\n",
    "file1 = 'eval_1.mat'\n",
    "file2 = 'eval_2.mat'\n",
    "database_path = 'E:\\\\Aditya\\\\ASVspoof2017_CFCC_IF_CMVN\\\\evalcontextData_117D'\n",
    "\n",
    "context_values = [i for i in range(-context,context+1)]"
   ]
  },
  {
   "cell_type": "code",
   "execution_count": 29,
   "metadata": {},
   "outputs": [
    {
     "name": "stdout",
     "output_type": "stream",
     "text": [
      "(6004, 1)\n",
      "(117, 330)\n"
     ]
    }
   ],
   "source": [
    "spoof1 = loadmat(os.path.join(features_path,file1))\n",
    "keys = list(spoof1.keys())\n",
    "position = len(keys) - 1\n",
    "spoof1 = spoof1[keys[position]]\n",
    "print(spoof1.shape)\n",
    "print(spoof1[0].item().shape)"
   ]
  },
  {
   "cell_type": "code",
   "execution_count": 30,
   "metadata": {},
   "outputs": [
    {
     "name": "stdout",
     "output_type": "stream",
     "text": [
      "(6004, 1)\n",
      "(117, 246)\n"
     ]
    }
   ],
   "source": [
    "spoof2 = loadmat(os.path.join(features_path,file2))\n",
    "keys = list(spoof2.keys())\n",
    "position = len(keys) - 1\n",
    "spoof2 = spoof2[keys[position]]\n",
    "print(spoof2.shape)\n",
    "print(spoof2[0].item().shape)"
   ]
  },
  {
   "cell_type": "code",
   "execution_count": 31,
   "metadata": {},
   "outputs": [
    {
     "name": "stdout",
     "output_type": "stream",
     "text": [
      "7302\n"
     ]
    }
   ],
   "source": [
    "# featureSize = spoof[0].item().shape[0] * (2* (context + 1))\n",
    "\n",
    "index = 1298\n",
    "for i in range(spoof1.shape[0]):\n",
    "    featureMatrix = spoof1[i].item().T\n",
    "    frames = featureMatrix.shape[0]\n",
    "    \n",
    "    contextFeature = []\n",
    "    \n",
    "    for j in range(context,frames-context):\n",
    "        feature = np.array([featureMatrix[j+k] for k in context_values])\n",
    "        feature = feature.reshape([-1])\n",
    "        contextFeature.append(feature)\n",
    "    contextFeature = np.array(contextFeature)\n",
    "    label = np.array([0,1]).reshape([1,2])\n",
    "    np.save(os.path.join(database_path,\"features\"+str(index+1)),contextFeature)\n",
    "    np.save(os.path.join(database_path,\"labels\"+str(index+1)), np.tile(label, [contextFeature.shape[0],1]))\n",
    "    index = index+1\n",
    "print(index)"
   ]
  },
  {
   "cell_type": "code",
   "execution_count": 32,
   "metadata": {},
   "outputs": [
    {
     "name": "stdout",
     "output_type": "stream",
     "text": [
      "13306\n"
     ]
    }
   ],
   "source": [
    "# featureSize = spoof[0].item().shape[0] * (2* (context + 1))\n",
    "\n",
    "\n",
    "for i in range(spoof2.shape[0]):\n",
    "    featureMatrix = spoof2[i].item().T\n",
    "    frames = featureMatrix.shape[0]\n",
    "    \n",
    "    contextFeature = []\n",
    "    \n",
    "    for j in range(context,frames-context):\n",
    "        feature = np.array([featureMatrix[j+k] for k in context_values])\n",
    "        feature = feature.reshape([-1])\n",
    "        contextFeature.append(feature)\n",
    "    contextFeature = np.array(contextFeature)\n",
    "    label = np.array([0,1]).reshape([1,2])\n",
    "    np.save(os.path.join(database_path,\"features\"+str(index+1)),contextFeature)\n",
    "    np.save(os.path.join(database_path,\"labels\"+str(index+1)), np.tile(label, [contextFeature.shape[0],1]))\n",
    "    index = index+1\n",
    "print(index)"
   ]
  },
  {
   "cell_type": "code",
   "execution_count": null,
   "metadata": {},
   "outputs": [],
   "source": []
  }
 ],
 "metadata": {
  "kernelspec": {
   "display_name": "Python 3",
   "language": "python",
   "name": "python3"
  },
  "language_info": {
   "codemirror_mode": {
    "name": "ipython",
    "version": 3
   },
   "file_extension": ".py",
   "mimetype": "text/x-python",
   "name": "python",
   "nbconvert_exporter": "python",
   "pygments_lexer": "ipython3",
   "version": "3.6.3"
  }
 },
 "nbformat": 4,
 "nbformat_minor": 2
}
