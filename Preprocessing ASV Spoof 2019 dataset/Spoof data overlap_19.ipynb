{
 "cells": [
  {
   "cell_type": "code",
   "execution_count": 1,
   "metadata": {},
   "outputs": [],
   "source": [
    "import os\n",
    "from scipy.io import loadmat,savemat\n",
    "import numpy as np\n",
    "\n",
    "spoof_features_path = 'E:\\\\Aditya\\\\CQCC\\\\Train\\\\spoof_train_files'\n",
    "no_of_files = len(list(os.listdir(spoof_features_path)))\n",
    "database_path = 'G:\\Aditya\\CQCC\\\\overlapData_78D'\n",
    "#file_path = 'I:\\\\Aditya\\\\ASVspoof2019_CMPOC_CMVN_90dim\\\\90D'\n",
    "temporary = 'G:\\Aditya\\CQCC\\\\temp_overlap_90D'\n",
    "\n",
    "frame_size = 100\n",
    "frame_shift = 50\n",
    "\n",
    "index = 5400\n",
    "# total = 24630"
   ]
  },
  {
   "cell_type": "code",
   "execution_count": 2,
   "metadata": {},
   "outputs": [
    {
     "name": "stdout",
     "output_type": "stream",
     "text": [
      "['spoof_1.mat', 'spoof_10.mat', 'spoof_2.mat', 'spoof_3.mat', 'spoof_4.mat', 'spoof_5.mat', 'spoof_6.mat', 'spoof_7.mat', 'spoof_8.mat', 'spoof_9.mat']\n",
      "10\n"
     ]
    }
   ],
   "source": [
    "matfiles = os.listdir(spoof_features_path)\n",
    "#print(matfiles[0])\n",
    "print(matfiles)\n",
    "no_of_files = len(matfiles)\n",
    "spoof = loadmat(os.path.join(spoof_features_path,matfiles[2]))\n",
    "keys = list(spoof.keys())\n",
    "print(no_of_files)"
   ]
  },
  {
   "cell_type": "code",
   "execution_count": 3,
   "metadata": {},
   "outputs": [],
   "source": [
    "spoof = loadmat(os.path.join(spoof_features_path,matfiles[7]))\n",
    "keys = list(spoof.keys())\n",
    "#print(len(keys[1]))"
   ]
  },
  {
   "cell_type": "code",
   "execution_count": 4,
   "metadata": {
    "scrolled": true
   },
   "outputs": [
    {
     "name": "stdout",
     "output_type": "stream",
     "text": [
      "E:\\Aditya\\CQCC\\Train\\spoof_train_files\\spoof_1.mat\n",
      "(4860, 1)\n",
      "(90, 374)\n",
      "E:\\Aditya\\CQCC\\Train\\spoof_train_files\\spoof_10.mat\n",
      "(4860, 1)\n",
      "(90, 615)\n",
      "E:\\Aditya\\CQCC\\Train\\spoof_train_files\\spoof_2.mat\n",
      "(4860, 1)\n",
      "(90, 268)\n",
      "E:\\Aditya\\CQCC\\Train\\spoof_train_files\\spoof_3.mat\n",
      "(4860, 1)\n",
      "(90, 417)\n",
      "E:\\Aditya\\CQCC\\Train\\spoof_train_files\\spoof_4.mat\n",
      "(4860, 1)\n",
      "(90, 686)\n",
      "E:\\Aditya\\CQCC\\Train\\spoof_train_files\\spoof_5.mat\n",
      "(4860, 1)\n",
      "(90, 434)\n",
      "E:\\Aditya\\CQCC\\Train\\spoof_train_files\\spoof_6.mat\n",
      "(4860, 1)\n",
      "(90, 434)\n",
      "E:\\Aditya\\CQCC\\Train\\spoof_train_files\\spoof_7.mat\n",
      "(4860, 1)\n",
      "(90, 629)\n",
      "E:\\Aditya\\CQCC\\Train\\spoof_train_files\\spoof_8.mat\n",
      "(4860, 1)\n",
      "(90, 442)\n",
      "E:\\Aditya\\CQCC\\Train\\spoof_train_files\\spoof_9.mat\n",
      "(4860, 1)\n",
      "(90, 470)\n"
     ]
    }
   ],
   "source": [
    "temporary = 'G:\\Aditya\\CQCC\\\\temp_overlap_90D'\n",
    "\n",
    "for i in range(0,no_of_files):\n",
    "    \n",
    "    print(os.path.join(spoof_features_path,matfiles[i]))\n",
    "    spoof = loadmat(os.path.join(spoof_features_path,matfiles[i]))\n",
    "    keys = list(spoof.keys())\n",
    "    find = 0\n",
    "    \n",
    "    for j in range(0,len(keys)):\n",
    "        if(len(keys[j]) == 1):\n",
    "            find = j\n",
    "            break\n",
    "            \n",
    "    spoof = spoof[keys[find]]\n",
    "    print(spoof.shape)\n",
    "    print(spoof[0].item().shape)\n",
    "\n",
    "    for j in range(spoof.shape[0]): #genuine.shape[0]):\n",
    "\n",
    "        featureMatrix = spoof[j].item().T\n",
    "        frames = featureMatrix.shape[0]\n",
    "        k = 0\n",
    "\n",
    "        context_feature = []\n",
    "        diff_frame = int(np.ceil(((frames - frame_size)+1)/frame_shift))\n",
    "        \n",
    "        if(diff_frame == 0):\n",
    "            diff_frame = 1\n",
    "            \n",
    "        if(diff_frame>=0):\n",
    "\n",
    "            for j in range(diff_frame):\n",
    "                feature = featureMatrix[k:k+frame_size]\n",
    "                k = k+frame_shift\n",
    "\n",
    "                if((k+frame_size)>frames):\n",
    "                    xtra = (k+frame_size)-frames\n",
    "                    padding_value = np.zeros([1,featureMatrix.shape[1]])\n",
    "                    feature = featureMatrix[k:frames]\n",
    "\n",
    "                    for pad in range(xtra):\n",
    "                        feature = np.append(feature,padding_value,axis = 0)\n",
    "                feature = feature.T\n",
    "                context_feature.append(feature)\n",
    "        else:\n",
    "            context_feature = featureMatrix\n",
    "            padding_frame_no = frame_size - frames\n",
    "            padding_value = np.zeros([1,featureMatrix.shape[1]])\n",
    "\n",
    "            for pad in range(padding_frame_no):\n",
    "                context_feature = np.append(context_feature,padding_value,axis = 0)\n",
    "            context_feature = context_feature.T\n",
    "            context_feature = context_feature.reshape([1,context_feature.shape[0],context_feature.shape[1]])\n",
    "            #print(context_feature.shape)    \n",
    "\n",
    "        context_feature = np.array(context_feature)\n",
    "#         total = total+context_feature.shape[0]\n",
    "        label = np.array([0,1]).reshape([1,2])\n",
    "        np.save(os.path.join(temporary,\"features_\"+str(index+1)), context_feature)\n",
    "        np.save(os.path.join(temporary,\"labels_\"+str(index+1)), np.tile(label,[context_feature.shape[0],1]))\n",
    "        index = index+1\n",
    "        #print(context_feature.shape)\n",
    "# print(total)"
   ]
  },
  {
   "cell_type": "code",
   "execution_count": 5,
   "metadata": {},
   "outputs": [
    {
     "name": "stdout",
     "output_type": "stream",
     "text": [
      "54000\n"
     ]
    }
   ],
   "source": [
    "print(index)\n"
   ]
  },
  {
   "cell_type": "code",
   "execution_count": null,
   "metadata": {},
   "outputs": [],
   "source": []
  }
 ],
 "metadata": {
  "kernelspec": {
   "display_name": "Python 3",
   "language": "python",
   "name": "python3"
  },
  "language_info": {
   "codemirror_mode": {
    "name": "ipython",
    "version": 3
   },
   "file_extension": ".py",
   "mimetype": "text/x-python",
   "name": "python",
   "nbconvert_exporter": "python",
   "pygments_lexer": "ipython3",
   "version": "3.6.3"
  }
 },
 "nbformat": 4,
 "nbformat_minor": 2
}
