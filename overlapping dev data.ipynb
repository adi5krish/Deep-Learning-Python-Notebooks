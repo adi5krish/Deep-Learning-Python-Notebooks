{
 "cells": [
  {
   "cell_type": "code",
   "execution_count": 4,
   "metadata": {},
   "outputs": [],
   "source": [
    "import numpy as np\n",
    "import os\n",
    "from scipy.io import loadmat,savemat\n",
    "import hdf5storage\n",
    "\n",
    "frame_size = 100\n",
    "frame_shift = 10\n",
    "\n",
    "features_path = 'G:\\\\Best Features\\\\Dev Files'\n",
    "genuineFilename = 'genuine.mat'\n",
    "spoofFilename = 'spoof.mat'\n",
    "database_path = 'G:\\\\Best Features\\\\devoverlapData_36D'\n",
    "#file_path = 'C:\\\\Users\\\\HIMANSHU\\\\Desktop\\\\Aditya\\\\ASVspoof2017_CMPOC_CMVN'"
   ]
  },
  {
   "cell_type": "code",
   "execution_count": 5,
   "metadata": {},
   "outputs": [
    {
     "name": "stdout",
     "output_type": "stream",
     "text": [
      "['__header__', '__version__', '__globals__', 'genuine']\n",
      "(760, 1)\n",
      "(36, 341)\n"
     ]
    }
   ],
   "source": [
    "genuine = loadmat(os.path.join(features_path,genuineFilename))\n",
    "keys = list(genuine.keys())\n",
    "print(keys)\n",
    "\n",
    "position = len(keys) - 1\n",
    "genuine = genuine[keys[position]]\n",
    "print(genuine.shape)\n",
    "print(genuine[0].item().shape)"
   ]
  },
  {
   "cell_type": "code",
   "execution_count": 6,
   "metadata": {},
   "outputs": [
    {
     "name": "stdout",
     "output_type": "stream",
     "text": [
      "['__header__', '__version__', '__globals__', 'spoof']\n",
      "(950, 1)\n",
      "(36, 168)\n"
     ]
    }
   ],
   "source": [
    "spoof = hdf5storage.loadmat(os.path.join(features_path,spoofFilename))\n",
    "keys = list(spoof.keys())\n",
    "print(keys)\n",
    "\n",
    "position = len(keys) - 1\n",
    "spoof = spoof[keys[position]]\n",
    "print(spoof.shape)\n",
    "print(spoof[0].item().shape)"
   ]
  },
  {
   "cell_type": "code",
   "execution_count": 7,
   "metadata": {},
   "outputs": [],
   "source": [
    "if not os.path.exists(database_path):\n",
    "    os.makedirs(database_path)\n",
    "index = 0"
   ]
  },
  {
   "cell_type": "code",
   "execution_count": 8,
   "metadata": {},
   "outputs": [
    {
     "name": "stdout",
     "output_type": "stream",
     "text": [
      "760\n"
     ]
    }
   ],
   "source": [
    "index = 0\n",
    "# total = 0\n",
    "\n",
    "if not os.path.exists(database_path):\n",
    "    os.makedirs(database_path)\n",
    "    \n",
    "for i in range(genuine.shape[0]): #genuine.shape[0]):\n",
    "    featureMatrix = genuine[i].item().T\n",
    "    frames = featureMatrix.shape[0]\n",
    "    k = 0\n",
    "    \n",
    "    context_feature = []\n",
    "    diff_frame = int(np.ceil(((frames - frame_size)+1)/frame_shift))\n",
    "    \n",
    "    if(diff_frame == 0):\n",
    "        diff_frame = 1\n",
    "        \n",
    "    if(diff_frame>=0):\n",
    "        \n",
    "        for j in range(diff_frame):\n",
    "            feature = featureMatrix[k:k+frame_size]\n",
    "            k = k+frame_shift\n",
    "            \n",
    "            if((k+frame_size)>frames):\n",
    "                xtra = (k+frame_size)-frames\n",
    "                padding_value = np.zeros([1,featureMatrix.shape[1]])\n",
    "                feature = featureMatrix[k:frames]\n",
    "                \n",
    "                for pad in range(xtra):\n",
    "                    feature = np.append(feature,padding_value,axis = 0)\n",
    "            feature = feature.T\n",
    "            context_feature.append(feature)\n",
    "    else:\n",
    "        context_feature = featureMatrix\n",
    "        padding_frame_no = frame_size - frames\n",
    "        padding_value = np.zeros([1,featureMatrix.shape[1]])\n",
    "        \n",
    "        for pad in range(padding_frame_no):\n",
    "            context_feature = np.append(context_feature,padding_value,axis = 0)\n",
    "        context_feature = context_feature.T\n",
    "        context_feature = context_feature.reshape([1,context_feature.shape[0],context_feature.shape[1]])\n",
    "        #print(context_feature.shape)    \n",
    "    context_feature = np.array(context_feature)\n",
    "#     total = total+context_feature.shape[0]\n",
    "    label = np.array([1,0]).reshape([1,2])\n",
    "    np.save(os.path.join(database_path,\"features_\"+str(index+1)), context_feature)\n",
    "    np.save(os.path.join(database_path,\"labels_\"+str(index+1)), np.tile(label,[context_feature.shape[0],1]))\n",
    "    index = index+1\n",
    "    #print(context_feature.shape)\n",
    "print(index)"
   ]
  },
  {
   "cell_type": "code",
   "execution_count": 9,
   "metadata": {},
   "outputs": [
    {
     "name": "stdout",
     "output_type": "stream",
     "text": [
      "1710\n"
     ]
    }
   ],
   "source": [
    "for i in range(spoof.shape[0]): #spoof.shape[0]):\n",
    "    featureMatrix = spoof[i].item().T\n",
    "    frames = featureMatrix.shape[0]\n",
    "    k = 0\n",
    "    \n",
    "    context_feature = []\n",
    "    diff_frame = int(np.ceil(((frames - frame_size)+1)/frame_shift))\n",
    "    \n",
    "    if(diff_frame == 0):\n",
    "        diff_frame = 1\n",
    "    \n",
    "    if(diff_frame>=0):\n",
    "        \n",
    "        for j in range(diff_frame):\n",
    "            feature = featureMatrix[k:k+frame_size]\n",
    "            k = k+frame_shift\n",
    "            \n",
    "            if((k+frame_size)>frames):\n",
    "                xtra = (k+frame_size)-frames\n",
    "                padding_value = np.zeros([1,featureMatrix.shape[1]])\n",
    "                feature = featureMatrix[k:frames]\n",
    "                \n",
    "                for pad in range(xtra):\n",
    "                    feature = np.append(feature,padding_value,axis = 0)\n",
    "            feature = feature.T\n",
    "            context_feature.append(feature)\n",
    "    else:\n",
    "        context_feature = featureMatrix\n",
    "        padding_frame_no = frame_size - frames\n",
    "        padding_value = np.zeros([1,featureMatrix.shape[1]])\n",
    "        \n",
    "        for pad in range(padding_frame_no):\n",
    "            context_feature = np.append(context_feature,padding_value,axis = 0)\n",
    "        context_feature = context_feature.T\n",
    "        context_feature = context_feature.reshape([1,context_feature.shape[0],context_feature.shape[1]])\n",
    "        #print(context_feature.shape)    \n",
    "    context_feature = np.array(context_feature)\n",
    "#     total = total+context_feature.shape[0]\n",
    "    label = np.array([0,1]).reshape([1,2])\n",
    "    np.save(os.path.join(database_path,\"features_\"+str(index+1)), context_feature)\n",
    "    np.save(os.path.join(database_path,\"labels_\"+str(index+1)), np.tile(label,[context_feature.shape[0],1]))\n",
    "    index = index+1\n",
    "    #print(context_feature.shape)\n",
    "print(index)"
   ]
  },
  {
   "cell_type": "code",
   "execution_count": null,
   "metadata": {},
   "outputs": [],
   "source": [
    "import os\n",
    "import numpy as np\n",
    "\n",
    "batch_name = 'batch_'+str(24)+'.npy'\n",
    "features_path = 'E:\\\\Aditya\\\\AnkurSir\\\\CFCC_IF\\\\36D\\\\overlap_36D'\n",
    "file = np.load(os.path.join(features_path,batch_name))\n",
    "print(file.shape)"
   ]
  },
  {
   "cell_type": "code",
   "execution_count": null,
   "metadata": {},
   "outputs": [],
   "source": []
  }
 ],
 "metadata": {
  "kernelspec": {
   "display_name": "Python 3",
   "language": "python",
   "name": "python3"
  },
  "language_info": {
   "codemirror_mode": {
    "name": "ipython",
    "version": 3
   },
   "file_extension": ".py",
   "mimetype": "text/x-python",
   "name": "python",
   "nbconvert_exporter": "python",
   "pygments_lexer": "ipython3",
   "version": "3.6.3"
  }
 },
 "nbformat": 4,
 "nbformat_minor": 2
}
