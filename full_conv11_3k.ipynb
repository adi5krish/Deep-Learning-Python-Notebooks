{
 "cells": [
  {
   "cell_type": "code",
   "execution_count": 1,
   "metadata": {},
   "outputs": [],
   "source": [
    "import tensorflow as tf\n",
    "import numpy as np\n",
    "import os\n",
    "import time"
   ]
  },
  {
   "cell_type": "code",
   "execution_count": 2,
   "metadata": {},
   "outputs": [],
   "source": [
    "# IN and Out variables for data \n",
    "dimension = 36\n",
    "fps = 100 #frames per second\n",
    "filters = 128\n",
    "\n",
    "x = tf.placeholder(tf.float32, [None, dimension, fps])  #Inputs\n",
    "y = tf.placeholder(tf.float32, [None, 2])   #Labels\n",
    "keep_prob = tf.placeholder(dtype= tf.float32)"
   ]
  },
  {
   "cell_type": "code",
   "execution_count": 3,
   "metadata": {},
   "outputs": [
    {
     "name": "stdout",
     "output_type": "stream",
     "text": [
      "Tensor(\"Reshape:0\", shape=(?, 36, 100, 1), dtype=float32)\n",
      "Tensor(\"Relu:0\", shape=(?, 1, 98, 128), dtype=float32)\n"
     ]
    }
   ],
   "source": [
    "#convolution Layer - 1 \n",
    "weights_conv1 = tf.get_variable( \"weights_conv1\", shape = [dimension, 3, 1, filters], \n",
    "                                  initializer = tf.contrib.layers.xavier_initializer())\n",
    "\n",
    "bias_conv1 = tf.get_variable( \"bias_conv1\", shape = [filters],\n",
    "                             initializer = tf.contrib.layers.xavier_initializer())\n",
    "\n",
    "input_x = tf.reshape(x, [-1, dimension, fps, 1])\n",
    "print(input_x)\n",
    "\n",
    "#output\n",
    "conv1 = tf.nn.conv2d( input_x, weights_conv1, strides=[1, 1, 1, 1], padding='VALID') \n",
    "conv1_out = tf.nn.relu( conv1 + bias_conv1 )\n",
    "conv1_drop = tf.nn.dropout(conv1_out, keep_prob)\n",
    "print(conv1_out)"
   ]
  },
  {
   "cell_type": "code",
   "execution_count": 4,
   "metadata": {},
   "outputs": [
    {
     "name": "stdout",
     "output_type": "stream",
     "text": [
      "Tensor(\"dropout_1/mul:0\", shape=(?, 1, 96, 128), dtype=float32)\n"
     ]
    }
   ],
   "source": [
    "#convolution layer - 2\n",
    "\n",
    "weights_conv2 = tf.get_variable( \"weights_conv2\", shape = [ 1, 3, filters, filters],\n",
    "                               initializer = tf.contrib.layers.xavier_initializer())\n",
    "bias_conv2 = tf.get_variable(\"bias_conv2\", shape = [filters],\n",
    "                            initializer = tf.contrib.layers.xavier_initializer())\n",
    "\n",
    "#output\n",
    "conv2 = tf.nn.conv2d( conv1_drop, weights_conv2, strides = [1, 1, 1, 1], padding = 'VALID')\n",
    "conv2_out = tf.nn.relu( conv2 + bias_conv2)\n",
    "conv2_drop = tf.nn.dropout(conv2_out, keep_prob)\n",
    "print(conv2_drop)"
   ]
  },
  {
   "cell_type": "code",
   "execution_count": 5,
   "metadata": {},
   "outputs": [
    {
     "name": "stdout",
     "output_type": "stream",
     "text": [
      "Tensor(\"dropout_2/mul:0\", shape=(?, 1, 94, 128), dtype=float32)\n"
     ]
    }
   ],
   "source": [
    "#convolution layer - 3\n",
    "\n",
    "weights_conv3 = tf.get_variable( \"weights_conv3\", shape = [ 1, 3, filters, filters],\n",
    "                               initializer = tf.contrib.layers.xavier_initializer())\n",
    "bias_conv3 = tf.get_variable(\"bias_conv3\", shape = [filters],\n",
    "                            initializer = tf.contrib.layers.xavier_initializer())\n",
    "\n",
    "#output\n",
    "conv3 = tf.nn.conv2d( conv2_drop, weights_conv3, strides = [1, 1, 1, 1], padding ='VALID')\n",
    "conv3_out = tf.nn.relu( conv3 + bias_conv3)\n",
    "conv3_drop = tf.nn.dropout(conv3_out, keep_prob)\n",
    "print(conv3_drop)"
   ]
  },
  {
   "cell_type": "code",
   "execution_count": 6,
   "metadata": {},
   "outputs": [
    {
     "name": "stdout",
     "output_type": "stream",
     "text": [
      "Tensor(\"dropout_3/mul:0\", shape=(?, 1, 47, 128), dtype=float32)\n"
     ]
    }
   ],
   "source": [
    "#Max pooling layer\n",
    "\n",
    "weights_conv4 = tf.get_variable( \"weights_conv4\", shape = [ 1, 2, filters, filters],\n",
    "                               initializer = tf.contrib.layers.xavier_initializer())\n",
    "bias_conv4 = tf.get_variable(\"bias_conv4\", shape = [filters],\n",
    "                            initializer = tf.contrib.layers.xavier_initializer())\n",
    "\n",
    "conv4 = tf.nn.conv2d( conv3_drop, weights_conv4, strides = [1, 1, 2, 1], padding = \"VALID\")\n",
    "conv4_out = tf.nn.relu( conv4 + bias_conv4 )\n",
    "conv4_drop = tf.nn.dropout(conv4_out, keep_prob)\n",
    "pool_out = conv4_drop\n",
    "print(pool_out)"
   ]
  },
  {
   "cell_type": "code",
   "execution_count": 7,
   "metadata": {},
   "outputs": [
    {
     "data": {
      "text/plain": [
       "<tf.Tensor 'dropout_4/mul:0' shape=(?, 1, 45, 128) dtype=float32>"
      ]
     },
     "execution_count": 7,
     "metadata": {},
     "output_type": "execute_result"
    }
   ],
   "source": [
    "weights_conv5 = tf.get_variable( \"weights_conv5\", shape = [ 1, 3, filters, filters],\n",
    "                               initializer = tf.contrib.layers.xavier_initializer())\n",
    "bias_conv5 = tf.get_variable(\"bias_conv5\", shape = [filters],\n",
    "                            initializer = tf.contrib.layers.xavier_initializer())\n",
    "\n",
    "conv5 = tf.nn.conv2d( pool_out, weights_conv5, strides = [1, 1, 1, 1], padding = \"VALID\")\n",
    "conv5_out = tf.nn.relu( conv5 + bias_conv5 )\n",
    "conv5_drop = tf.nn.dropout(conv5_out, keep_prob)\n",
    "conv5_drop"
   ]
  },
  {
   "cell_type": "code",
   "execution_count": 8,
   "metadata": {},
   "outputs": [
    {
     "data": {
      "text/plain": [
       "<tf.Tensor 'dropout_5/mul:0' shape=(?, 1, 43, 128) dtype=float32>"
      ]
     },
     "execution_count": 8,
     "metadata": {},
     "output_type": "execute_result"
    }
   ],
   "source": [
    "weights_conv6 = tf.get_variable( \"weights_conv6\", shape = [ 1, 3, filters, filters],\n",
    "                               initializer = tf.contrib.layers.xavier_initializer())\n",
    "bias_conv6 = tf.get_variable(\"bias_conv6\", shape = [filters],\n",
    "                            initializer = tf.contrib.layers.xavier_initializer())\n",
    "\n",
    "conv6 = tf.nn.conv2d( conv5_drop, weights_conv6, strides = [1, 1, 1, 1], padding = \"VALID\")\n",
    "conv6_out = tf.nn.relu( conv6 + bias_conv6 )\n",
    "conv6_drop = tf.nn.dropout(conv6_out, keep_prob)\n",
    "conv6_drop"
   ]
  },
  {
   "cell_type": "code",
   "execution_count": 9,
   "metadata": {},
   "outputs": [
    {
     "data": {
      "text/plain": [
       "<tf.Tensor 'dropout_6/mul:0' shape=(?, 1, 41, 128) dtype=float32>"
      ]
     },
     "execution_count": 9,
     "metadata": {},
     "output_type": "execute_result"
    }
   ],
   "source": [
    "weights_conv7 = tf.get_variable( \"weights_conv7\", shape = [ 1, 3, filters, filters],\n",
    "                               initializer = tf.contrib.layers.xavier_initializer())\n",
    "bias_conv7 = tf.get_variable(\"bias_conv7\", shape = [filters],\n",
    "                            initializer = tf.contrib.layers.xavier_initializer())\n",
    "\n",
    "conv7 = tf.nn.conv2d( conv6_drop, weights_conv7, strides = [1, 1, 1, 1], padding = \"VALID\")\n",
    "conv7_out = tf.nn.relu( conv7 + bias_conv7 )\n",
    "conv7_drop = tf.nn.dropout(conv7_out, keep_prob)\n",
    "conv7_drop"
   ]
  },
  {
   "cell_type": "code",
   "execution_count": 10,
   "metadata": {},
   "outputs": [
    {
     "data": {
      "text/plain": [
       "<tf.Tensor 'dropout_7/mul:0' shape=(?, 1, 20, 128) dtype=float32>"
      ]
     },
     "execution_count": 10,
     "metadata": {},
     "output_type": "execute_result"
    }
   ],
   "source": [
    "weights_conv8 = tf.get_variable( \"weights_conv8\", shape = [ 1, 2, filters, filters],\n",
    "                               initializer = tf.contrib.layers.xavier_initializer())\n",
    "bias_conv8 = tf.get_variable(\"bias_conv8\",shape = [filters],\n",
    "                            initializer = tf.contrib.layers.xavier_initializer())\n",
    "\n",
    "conv8 = tf.nn.conv2d( conv7_drop, weights_conv8, strides = [1, 1, 2, 1], padding = \"VALID\")\n",
    "conv8_out = tf.nn.relu( conv8 + bias_conv8 )\n",
    "conv8_drop = tf.nn.dropout(conv8_out, keep_prob)\n",
    "conv8_drop"
   ]
  },
  {
   "cell_type": "raw",
   "metadata": {},
   "source": [
    "weights_conv9 = tf.get_variable( \"weights_conv9\", shape = [ 1, 3, filters, filters],\n",
    "                               initializer = tf.contrib.layers.xavier_initializer())\n",
    "bias_conv9 = tf.get_variable(\"bias_conv9\", shape = [filters],\n",
    "                            initializer = tf.contrib.layers.xavier_initializer())\n",
    "\n",
    "conv9 = tf.nn.conv2d( conv8_drop, weights_conv9, strides = [1, 1, 1, 1], padding = \"VALID\")\n",
    "conv9_out = tf.nn.relu( conv9 + bias_conv9 )\n",
    "conv9_drop = tf.nn.dropout( conv9_out, keep_prob)\n",
    "conv9_drop"
   ]
  },
  {
   "cell_type": "raw",
   "metadata": {},
   "source": [
    "weights_conv10 = tf.get_variable( \"weights_conv10\", shape = [ 1, 3, filters, filters],\n",
    "                               initializer = tf.contrib.layers.xavier_initializer())\n",
    "bias_conv10 = tf.get_variable(\"bias_conv10\", shape = [filters],\n",
    "                            initializer = tf.contrib.layers.xavier_initializer())\n",
    "\n",
    "conv10 = tf.nn.conv2d( conv9_drop, weights_conv10, strides = [1, 1, 1, 1], padding = \"VALID\")\n",
    "conv10_out = tf.nn.relu( conv10 + bias_conv10 )\n",
    "conv10_drop = tf.nn.dropout( conv10_out, keep_prob)\n",
    "conv10_drop"
   ]
  },
  {
   "cell_type": "raw",
   "metadata": {},
   "source": [
    "# weights_conv11 = tf.get_variable( \"weights_conv11\", shape = [ 1, 1, filters, 2],\n",
    "#                                initializer = tf.contrib.layers.xavier_initializer())\n",
    "# bias_conv11 = tf.get_variable(\"bias_conv11\", shape = [2],\n",
    "#                             initializer = tf.contrib.layers.xavier_initializer())\n",
    "\n",
    "conv11 = tf.nn.conv2d( conv9_drop,weights_conv11, strides = [1, 1, 1, 1], padding = \"VALID\")\n",
    "conv11_out = tf.nn.relu( conv11 + bias_conv11 )\n",
    "conv11_drop = tf.nn.dropout( conv11_out, keep_prob)\n",
    "conv11_drop"
   ]
  },
  {
   "cell_type": "code",
   "execution_count": 11,
   "metadata": {},
   "outputs": [
    {
     "data": {
      "text/plain": [
       "<tf.Tensor 'dropout_8/mul:0' shape=(?, 1, 20, 2) dtype=float32>"
      ]
     },
     "execution_count": 11,
     "metadata": {},
     "output_type": "execute_result"
    }
   ],
   "source": [
    "weights_conv12 = tf.get_variable( \"weights_conv12\", shape = [ 1, 1, filters, 2],\n",
    "                               initializer = tf.contrib.layers.xavier_initializer())\n",
    "bias_conv12 = tf.get_variable(\"bias_conv12\", shape = [2],\n",
    "                            initializer = tf.contrib.layers.xavier_initializer())\n",
    "\n",
    "conv12 = tf.nn.conv2d( conv8_drop, weights_conv12, strides = [1, 1, 1, 1], padding = \"VALID\")\n",
    "conv12_out = tf.nn.relu( conv12 + bias_conv12 )\n",
    "conv12_drop = tf.nn.dropout( conv12_out, keep_prob)\n",
    "conv12_drop"
   ]
  },
  {
   "cell_type": "code",
   "execution_count": 12,
   "metadata": {},
   "outputs": [
    {
     "data": {
      "text/plain": [
       "<tf.Tensor 'Relu_9:0' shape=(?, 1, 1, 2) dtype=float32>"
      ]
     },
     "execution_count": 12,
     "metadata": {},
     "output_type": "execute_result"
    }
   ],
   "source": [
    "# Final output layer\n",
    "weights_final = tf.get_variable( \"weights_final\", shape = [ 1, 20, 2, 2],\n",
    "                               initializer = tf.contrib.layers.xavier_initializer())\n",
    "bias_final = tf.get_variable(\"bias_final\", shape = [2],\n",
    "                            initializer = tf.contrib.layers.xavier_initializer())\n",
    "\n",
    "conv_final = tf.nn.conv2d( conv12_drop, weights_final, strides = [1, 1, 20, 1], padding = \"VALID\")\n",
    "conv_final = tf.nn.relu( conv_final + bias_final )\n",
    "conv_final"
   ]
  },
  {
   "cell_type": "code",
   "execution_count": 13,
   "metadata": {},
   "outputs": [
    {
     "data": {
      "text/plain": [
       "<tf.Tensor 'Softmax:0' shape=(?, 2) dtype=float32>"
      ]
     },
     "execution_count": 13,
     "metadata": {},
     "output_type": "execute_result"
    }
   ],
   "source": [
    "final_output = tf.reshape(conv_final, shape = [-1, 2])\n",
    "\n",
    "output = tf.nn.softmax(final_output)\n",
    "output"
   ]
  },
  {
   "cell_type": "code",
   "execution_count": 14,
   "metadata": {},
   "outputs": [],
   "source": [
    "# losses and optimizers\n",
    "\n",
    "cross_entropy = tf.reduce_mean( tf.nn.softmax_cross_entropy_with_logits(labels = y, logits = final_output))\n",
    "optimizer = tf.train.AdamOptimizer(1e-4)\n",
    "train_step = optimizer.minimize(cross_entropy)\n",
    "\n",
    "correct_predictions = tf.equal( tf.argmax(output, 1), tf.argmax(y, 1))\n",
    "accuracy = tf.reduce_mean( tf.cast( correct_predictions, tf.float32 ))"
   ]
  },
  {
   "cell_type": "raw",
   "metadata": {},
   "source": [
    "# matric for testing on development \n",
    "\n",
    "test_features = []\n",
    "test_labels = []\n",
    "\n",
    "test_path =\"E:\\\\Hemlata_CSL\\\\MFCC\\\\CNN_input_dev_data\"\n",
    "\n",
    "for folders in os.listdir(test_path):\n",
    "    print(folders)\n",
    "    features = np.load(os.path.join(test_path, folders, \"feature_image.npy\"))\n",
    "    print(features.shape)\n",
    "    labels = np.load(os.path.join(test_path, folders, \"label_image.npy\"))\n",
    "    for i in range(labels.shape[0]):\n",
    "        test_features.append(features[i])\n",
    "        test_labels.append(labels[i])\n",
    "    \n",
    "test_features = np.array(test_features)\n",
    "test_labels = np.array(test_labels)\n",
    "print(test_features.shape)\n",
    "print(test_labels.shape)\n"
   ]
  },
  {
   "cell_type": "code",
   "execution_count": 15,
   "metadata": {},
   "outputs": [],
   "source": [
    "#initializing tensors using sessoion\n",
    "config = tf.ConfigProto()\n",
    "config.gpu_options.allow_growth=True\n",
    "session = tf.Session(config=config)\n",
    "\n",
    "init = tf.global_variables_initializer()\n",
    "saver = tf.train.Saver(max_to_keep=None)\n",
    "\n",
    "features_path = \"E:\\\\Aditya\\\\AnkurSir\\\\new CFCC\\\\overlap_36D\"\n",
    "development_path = \"E:\\\\Aditya\\\\AnkurSir\\\\new CFCC\\\\devoverlapData_36D\"\n",
    "# evaluation_path = \"E:\\\\Aditya\\\\AnkurSir\\\\new CFCC\\\\CNN_input_testing_eval\"\n",
    "model_path = \"E:\\\\Aditya\\\\AnkurSir\\\\new CFCC\\\\Models\\\\\"\n",
    "    \n",
    "dev_sp_path =\"E:\\\\Aditya\\\\AnkurSir\\\\new CFCC\\\\dev\"\n",
    "#eva_sp_path = \"E:\\\\Hemlata_CSL\\\\MFCC\\\\4_conv\\\\eval\""
   ]
  },
  {
   "cell_type": "code",
   "execution_count": 16,
   "metadata": {},
   "outputs": [],
   "source": [
    "def cal_eer(scores_true, scores_false):\n",
    "    \n",
    "    \"\"\" Calculate EER\n",
    "        Args:\n",
    "            scores_true: A score list of positive samples\n",
    "            scores_false: A score list of negative samples\n",
    "        Return:\n",
    "            (EER, threshold)\n",
    "        Note:\n",
    "            Here, the threshold is set, and if the score is higher than or equal to the threshold,\n",
    "            the decision is passed, and the decision is rejected as below.\n",
    "    \"\"\"\n",
    "    min1 = min(scores_true)\n",
    "    min2 = min(scores_false)\n",
    "    low = min(min1, min2)\n",
    "    max1 = max(scores_true)\n",
    "    max2 = max(scores_false)\n",
    "    high = max(max1, max2)\n",
    "    FAR = -55\n",
    "    FRR = -55\n",
    "    mid = -100\n",
    "    # Bisection find threshold\n",
    "    while True:\n",
    "        bef_FAR = FAR \n",
    "        bef_FRR = FRR\n",
    "        bef_mid = mid\n",
    "        mid = (high + low) / 2\n",
    "        FRR = sum([1 for s in scores_true if s < mid]) / len(scores_true)\n",
    "        FAR = sum([1 for s in scores_false if s >= mid]) / len(scores_false)\n",
    "        #print(\"FRR  \",FRR,\" FAR   \",FAR,\"   mid   \",mid)\n",
    "\n",
    "        if abs(FRR - FAR) < 1e-7:\n",
    "            print(\"FRR  \",FRR,\" FAR   \",FAR,\"   mid   \",mid)\n",
    "            break\n",
    "\n",
    "        if FRR < FAR:\n",
    "            low = mid\n",
    "        else:\n",
    "            high = mid\n",
    "            \n",
    "        if bef_FAR == FAR :\n",
    "            if bef_FRR == FRR :\n",
    "                if bef_mid == mid :\n",
    "                    print(\"FRR  \",FRR,\" FAR   \",FAR,\"   mid   \",mid)\n",
    "                    break\n",
    "\n",
    "    EER  =  FRR\n",
    "    return EER, (high + low) / 2"
   ]
  },
  {
   "cell_type": "code",
   "execution_count": 17,
   "metadata": {},
   "outputs": [],
   "source": [
    "from scipy.io import savemat\n",
    "\n",
    "def get_EER(test_path, index, sp_path ):\n",
    "    scores = []\n",
    "    development_labels = []\n",
    "    probabilities = []\n",
    "\n",
    "    #test_path = \"C:\\\\Users\\\\project1\\\\Desktop\\\\Siva\\\\HT_IFCC_hemlata\\\\CNN_input_testing_dev\"\n",
    "    indexs = len(list(os.listdir(test_path)))//2\n",
    "    \n",
    "    for folders in range(1,indexs+1):\n",
    "        features = np.load(os.path.join(test_path, \"features_\"+str(folders)+\".npy\"))\n",
    "        labels = np.load(os.path.join(test_path, \"labels_\"+str(folders)+\".npy\"))\n",
    "        patches = labels.shape[0]\n",
    "        patch_prob = session.run(output, feed_dict = {x:features, keep_prob:1.0})\n",
    "        final_prob = np.zeros([2])\n",
    "        \n",
    "        for i in range(patches):\n",
    "            if(patch_prob[i][0] == 0):\n",
    "                patch_prob[i][0] = 1e-25\n",
    "            if(patch_prob[i][1] == 0):\n",
    "                patch_prob[i][1] = 1e-25\n",
    "                \n",
    "            final_prob[0] = final_prob[0] + np.log(patch_prob[i][0])\n",
    "            final_prob[1] = final_prob[1] + np.log(patch_prob[i][1])\n",
    "\n",
    "        final_prob = final_prob / patches\n",
    "        score = (final_prob[0]) - (final_prob[1])\n",
    "        audio_label = labels[0]\n",
    "\n",
    "        scores.append(score)\n",
    "        probabilities.append( np.mean(patch_prob, axis=0) )\n",
    "        development_labels.append( audio_label )\n",
    "\n",
    "    scores = np.array(scores)\n",
    "    development_labels = np.array(development_labels)\n",
    "    probabilities = np.array(probabilities)\n",
    "\n",
    "    scores_geniue = []\n",
    "    scores_spoof = []\n",
    "    prob_genuine = []\n",
    "    prob_spoof = []\n",
    "\n",
    "    for i in range(development_labels.shape[0]):\n",
    "        if development_labels[i][0] == 1 :\n",
    "            scores_geniue.append(scores[i])\n",
    "            prob_genuine.append(probabilities[i])\n",
    "        elif development_labels[i][1] == 1:\n",
    "            scores_spoof.append(scores[i])\n",
    "            prob_spoof.append(probabilities[i])\n",
    "\n",
    "    scores_geniue = np.array(scores_geniue)\n",
    "    scores_spoof = np.array(scores_spoof)\n",
    "    prob_genuine = np.array(prob_genuine)\n",
    "    prob_spoof = np.array(prob_spoof)\n",
    "    \n",
    "    a,b = cal_eer(scores_geniue, scores_spoof)\n",
    "    \n",
    "    score_path = os.path.join(sp_path, \"scores\")\n",
    "    prob_path = os.path.join(sp_path, \"probabilities\")\n",
    "    \n",
    "    if not os.path.exists(score_path):\n",
    "        os.makedirs(score_path)\n",
    "    if not os.path.exists(prob_path):\n",
    "        os.makedirs(prob_path)\n",
    "        \n",
    "    prob_file = \"probabilities_\"+str(index)\n",
    "    sc_file = \"scores_\"+str(index)\n",
    "    savemat(os.path.join(score_path, sc_file), { 'genuine':scores_geniue, 'spoof':scores_spoof, 'eer' : a*100 })\n",
    "    savemat(os.path.join(prob_path, prob_file), { 'genuine':prob_genuine, 'spoof':prob_spoof })\n",
    "    \n",
    "    return a"
   ]
  },
  {
   "cell_type": "code",
   "execution_count": 18,
   "metadata": {},
   "outputs": [
    {
     "name": "stdout",
     "output_type": "stream",
     "text": [
      "start\n",
      "complete\n"
     ]
    }
   ],
   "source": [
    "print(\"start\")\n",
    "time.sleep(20)\n",
    "print(\"complete\")"
   ]
  },
  {
   "cell_type": "code",
   "execution_count": 19,
   "metadata": {
    "scrolled": true
   },
   "outputs": [
    {
     "name": "stdout",
     "output_type": "stream",
     "text": [
      "INFO:tensorflow:E:\\Aditya\\AnkurSir\\new CFCC\\Models\\Model_0 is not in all_model_checkpoint_paths. Manually adding it.\n",
      "iteration    1 \n",
      "\n",
      "FRR   0.3736842105263158  FAR    0.37473684210526315    mid    0.117484600456\n",
      " develop eer   0.3736842105263158\n",
      "\n",
      "INFO:tensorflow:E:\\Aditya\\AnkurSir\\new CFCC\\Models\\Model_1 is not in all_model_checkpoint_paths. Manually adding it.\n",
      "iteration    2 \n",
      "\n",
      "FRR   0.2513157894736842  FAR    0.25157894736842107    mid    0.274232947826\n",
      " develop eer   0.2513157894736842\n",
      "\n",
      "INFO:tensorflow:E:\\Aditya\\AnkurSir\\new CFCC\\Models\\Model_2 is not in all_model_checkpoint_paths. Manually adding it.\n",
      "iteration    3 \n",
      "\n",
      "FRR   0.23421052631578948  FAR    0.23473684210526316    mid    0.276684848162\n",
      " develop eer   0.23421052631578948\n",
      "\n",
      "INFO:tensorflow:E:\\Aditya\\AnkurSir\\new CFCC\\Models\\Model_3 is not in all_model_checkpoint_paths. Manually adding it.\n",
      "iteration    4 \n",
      "\n",
      "FRR   0.2355263157894737  FAR    0.23578947368421052    mid    0.493620634079\n",
      " develop eer   0.2355263157894737\n",
      "\n",
      "INFO:tensorflow:E:\\Aditya\\AnkurSir\\new CFCC\\Models\\Model_4 is not in all_model_checkpoint_paths. Manually adding it.\n",
      "iteration    5 \n",
      "\n",
      "FRR   0.2131578947368421  FAR    0.21368421052631578    mid    0.631088714708\n",
      " develop eer   0.2131578947368421\n",
      "\n",
      "INFO:tensorflow:E:\\Aditya\\AnkurSir\\new CFCC\\Models\\Model_5 is not in all_model_checkpoint_paths. Manually adding it.\n",
      "iteration    6 \n",
      "\n",
      "FRR   0.1868421052631579  FAR    0.18736842105263157    mid    0.593301124871\n",
      " develop eer   0.1868421052631579\n",
      "\n",
      "INFO:tensorflow:E:\\Aditya\\AnkurSir\\new CFCC\\Models\\Model_6 is not in all_model_checkpoint_paths. Manually adding it.\n",
      "iteration    7 \n",
      "\n",
      "FRR   0.17763157894736842  FAR    0.17789473684210527    mid    1.17674595224\n",
      " develop eer   0.17763157894736842\n",
      "\n",
      "INFO:tensorflow:E:\\Aditya\\AnkurSir\\new CFCC\\Models\\Model_7 is not in all_model_checkpoint_paths. Manually adding it.\n",
      "iteration    8 \n",
      "\n",
      "FRR   0.16710526315789473  FAR    0.16631578947368422    mid    1.01696980904\n",
      " develop eer   0.16710526315789473\n",
      "\n",
      "INFO:tensorflow:E:\\Aditya\\AnkurSir\\new CFCC\\Models\\Model_8 is not in all_model_checkpoint_paths. Manually adding it.\n",
      "iteration    9 \n",
      "\n",
      "FRR   0.16447368421052633  FAR    0.16421052631578947    mid    1.13714243897\n",
      " develop eer   0.16447368421052633\n",
      "\n",
      "INFO:tensorflow:E:\\Aditya\\AnkurSir\\new CFCC\\Models\\Model_9 is not in all_model_checkpoint_paths. Manually adding it.\n",
      "iteration    10 \n",
      "\n",
      "FRR   0.15921052631578947  FAR    0.16    mid    1.2301355219\n",
      " develop eer   0.15921052631578947\n",
      "\n",
      "INFO:tensorflow:E:\\Aditya\\AnkurSir\\new CFCC\\Models\\Model_10 is not in all_model_checkpoint_paths. Manually adding it.\n",
      "iteration    11 \n",
      "\n",
      "FRR   0.15789473684210525  FAR    0.15789473684210525    mid    1.20076502281\n",
      " develop eer   0.15789473684210525\n",
      "\n",
      "INFO:tensorflow:E:\\Aditya\\AnkurSir\\new CFCC\\Models\\Model_11 is not in all_model_checkpoint_paths. Manually adding it.\n",
      "iteration    12 \n",
      "\n",
      "FRR   0.15526315789473685  FAR    0.15578947368421053    mid    1.28596944648\n",
      " develop eer   0.15526315789473685\n",
      "\n",
      "INFO:tensorflow:E:\\Aditya\\AnkurSir\\new CFCC\\Models\\Model_12 is not in all_model_checkpoint_paths. Manually adding it.\n",
      "iteration    13 \n",
      "\n",
      "FRR   0.15394736842105264  FAR    0.15473684210526314    mid    1.28496782084\n",
      " develop eer   0.15394736842105264\n",
      "\n",
      "INFO:tensorflow:E:\\Aditya\\AnkurSir\\new CFCC\\Models\\Model_13 is not in all_model_checkpoint_paths. Manually adding it.\n",
      "iteration    14 \n",
      "\n",
      "FRR   0.15263157894736842  FAR    0.15263157894736842    mid    1.28737265631\n",
      " develop eer   0.15263157894736842\n",
      "\n",
      "INFO:tensorflow:E:\\Aditya\\AnkurSir\\new CFCC\\Models\\Model_14 is not in all_model_checkpoint_paths. Manually adding it.\n",
      "iteration    15 \n",
      "\n",
      "FRR   0.15263157894736842  FAR    0.15263157894736842    mid    1.31817830714\n",
      " develop eer   0.15263157894736842\n",
      "\n",
      "INFO:tensorflow:E:\\Aditya\\AnkurSir\\new CFCC\\Models\\Model_15 is not in all_model_checkpoint_paths. Manually adding it.\n",
      "iteration    16 \n",
      "\n",
      "FRR   0.15263157894736842  FAR    0.15263157894736842    mid    1.39019270787\n",
      " develop eer   0.15263157894736842\n",
      "\n",
      "INFO:tensorflow:E:\\Aditya\\AnkurSir\\new CFCC\\Models\\Model_16 is not in all_model_checkpoint_paths. Manually adding it.\n",
      "iteration    17 \n",
      "\n",
      "FRR   0.15  FAR    0.15052631578947367    mid    1.39535362227\n",
      " develop eer   0.15\n",
      "\n",
      "INFO:tensorflow:E:\\Aditya\\AnkurSir\\new CFCC\\Models\\Model_17 is not in all_model_checkpoint_paths. Manually adding it.\n",
      "iteration    18 \n",
      "\n",
      "FRR   0.14736842105263157  FAR    0.14736842105263157    mid    1.49183801643\n",
      " develop eer   0.14736842105263157\n",
      "\n",
      "INFO:tensorflow:E:\\Aditya\\AnkurSir\\new CFCC\\Models\\Model_18 is not in all_model_checkpoint_paths. Manually adding it.\n",
      "iteration    19 \n",
      "\n",
      "FRR   0.15263157894736842  FAR    0.15263157894736842    mid    1.53382387537\n",
      " develop eer   0.15263157894736842\n",
      "\n",
      "INFO:tensorflow:E:\\Aditya\\AnkurSir\\new CFCC\\Models\\Model_19 is not in all_model_checkpoint_paths. Manually adding it.\n",
      "iteration    20 \n",
      "\n",
      "FRR   0.1513157894736842  FAR    0.15157894736842106    mid    1.52196102962\n",
      " develop eer   0.1513157894736842\n",
      "\n",
      "INFO:tensorflow:E:\\Aditya\\AnkurSir\\new CFCC\\Models\\Model_20 is not in all_model_checkpoint_paths. Manually adding it.\n",
      "iteration    21 \n",
      "\n",
      "FRR   0.1513157894736842  FAR    0.15052631578947367    mid    1.45839181803\n",
      " develop eer   0.1513157894736842\n",
      "\n",
      "INFO:tensorflow:E:\\Aditya\\AnkurSir\\new CFCC\\Models\\Model_21 is not in all_model_checkpoint_paths. Manually adding it.\n",
      "iteration    22 \n",
      "\n",
      "FRR   0.15  FAR    0.15052631578947367    mid    1.5904513408\n",
      " develop eer   0.15\n",
      "\n",
      "INFO:tensorflow:E:\\Aditya\\AnkurSir\\new CFCC\\Models\\Model_22 is not in all_model_checkpoint_paths. Manually adding it.\n",
      "iteration    23 \n",
      "\n",
      "FRR   0.14868421052631578  FAR    0.14842105263157895    mid    1.62126338743\n",
      " develop eer   0.14868421052631578\n",
      "\n",
      "INFO:tensorflow:E:\\Aditya\\AnkurSir\\new CFCC\\Models\\Model_23 is not in all_model_checkpoint_paths. Manually adding it.\n",
      "iteration    24 \n",
      "\n",
      "FRR   0.14868421052631578  FAR    0.14947368421052631    mid    1.60845844168\n",
      " develop eer   0.14868421052631578\n",
      "\n",
      "INFO:tensorflow:E:\\Aditya\\AnkurSir\\new CFCC\\Models\\Model_24 is not in all_model_checkpoint_paths. Manually adding it.\n",
      "iteration    25 \n",
      "\n",
      "FRR   0.1513157894736842  FAR    0.15052631578947367    mid    1.6660271298\n",
      " develop eer   0.1513157894736842\n",
      "\n",
      "INFO:tensorflow:E:\\Aditya\\AnkurSir\\new CFCC\\Models\\Model_25 is not in all_model_checkpoint_paths. Manually adding it.\n",
      "iteration    26 \n",
      "\n",
      "FRR   0.15  FAR    0.15052631578947367    mid    1.38126170728\n",
      " develop eer   0.15\n",
      "\n",
      "INFO:tensorflow:E:\\Aditya\\AnkurSir\\new CFCC\\Models\\Model_26 is not in all_model_checkpoint_paths. Manually adding it.\n",
      "iteration    27 \n",
      "\n",
      "FRR   0.14736842105263157  FAR    0.14842105263157895    mid    1.23468732914\n",
      " develop eer   0.14736842105263157\n",
      "\n",
      "INFO:tensorflow:E:\\Aditya\\AnkurSir\\new CFCC\\Models\\Model_27 is not in all_model_checkpoint_paths. Manually adding it.\n",
      "iteration    28 \n",
      "\n",
      "FRR   0.15  FAR    0.14947368421052631    mid    1.8752955937\n",
      " develop eer   0.15\n",
      "\n",
      "INFO:tensorflow:E:\\Aditya\\AnkurSir\\new CFCC\\Models\\Model_28 is not in all_model_checkpoint_paths. Manually adding it.\n",
      "iteration    29 \n",
      "\n",
      "FRR   0.15  FAR    0.15052631578947367    mid    1.86996177003\n",
      " develop eer   0.15\n",
      "\n",
      "INFO:tensorflow:E:\\Aditya\\AnkurSir\\new CFCC\\Models\\Model_29 is not in all_model_checkpoint_paths. Manually adding it.\n",
      "iteration    30 \n",
      "\n",
      "FRR   0.15263157894736842  FAR    0.15368421052631578    mid    0.612725439526\n",
      " develop eer   0.15263157894736842\n",
      "\n",
      "INFO:tensorflow:E:\\Aditya\\AnkurSir\\new CFCC\\Models\\Model_30 is not in all_model_checkpoint_paths. Manually adding it.\n",
      "iteration    31 \n",
      "\n",
      "FRR   0.14605263157894738  FAR    0.1463157894736842    mid    1.55295400214\n",
      " develop eer   0.14605263157894738\n",
      "\n",
      "INFO:tensorflow:E:\\Aditya\\AnkurSir\\new CFCC\\Models\\Model_31 is not in all_model_checkpoint_paths. Manually adding it.\n",
      "iteration    32 \n",
      "\n",
      "FRR   0.15  FAR    0.15052631578947367    mid    1.3819858598\n",
      " develop eer   0.15\n",
      "\n",
      "INFO:tensorflow:E:\\Aditya\\AnkurSir\\new CFCC\\Models\\Model_32 is not in all_model_checkpoint_paths. Manually adding it.\n",
      "iteration    33 \n",
      "\n",
      "FRR   0.15394736842105264  FAR    0.15473684210526314    mid    1.21614559351\n",
      " develop eer   0.15394736842105264\n",
      "\n",
      "INFO:tensorflow:E:\\Aditya\\AnkurSir\\new CFCC\\Models\\Model_33 is not in all_model_checkpoint_paths. Manually adding it.\n",
      "iteration    34 \n",
      "\n",
      "FRR   0.15263157894736842  FAR    0.15263157894736842    mid    1.31943912884\n",
      " develop eer   0.15263157894736842\n",
      "\n"
     ]
    },
    {
     "name": "stdout",
     "output_type": "stream",
     "text": [
      "INFO:tensorflow:E:\\Aditya\\AnkurSir\\new CFCC\\Models\\Model_34 is not in all_model_checkpoint_paths. Manually adding it.\n",
      "iteration    35 \n",
      "\n",
      "FRR   0.15263157894736842  FAR    0.15157894736842106    mid    1.52391388771\n",
      " develop eer   0.15263157894736842\n",
      "\n",
      "INFO:tensorflow:E:\\Aditya\\AnkurSir\\new CFCC\\Models\\Model_35 is not in all_model_checkpoint_paths. Manually adding it.\n",
      "iteration    36 \n",
      "\n",
      "FRR   0.15263157894736842  FAR    0.15263157894736842    mid    1.17493978955\n",
      " develop eer   0.15263157894736842\n",
      "\n",
      "INFO:tensorflow:E:\\Aditya\\AnkurSir\\new CFCC\\Models\\Model_36 is not in all_model_checkpoint_paths. Manually adding it.\n",
      "iteration    37 \n",
      "\n",
      "FRR   0.15  FAR    0.15052631578947367    mid    0.859279486792\n",
      " develop eer   0.15\n",
      "\n",
      "INFO:tensorflow:E:\\Aditya\\AnkurSir\\new CFCC\\Models\\Model_37 is not in all_model_checkpoint_paths. Manually adding it.\n",
      "iteration    38 \n",
      "\n",
      "FRR   0.15263157894736842  FAR    0.15157894736842106    mid    1.04386418304\n",
      " develop eer   0.15263157894736842\n",
      "\n",
      "INFO:tensorflow:E:\\Aditya\\AnkurSir\\new CFCC\\Models\\Model_38 is not in all_model_checkpoint_paths. Manually adding it.\n",
      "iteration    39 \n",
      "\n",
      "FRR   0.1513157894736842  FAR    0.15157894736842106    mid    2.18780177832\n",
      " develop eer   0.1513157894736842\n",
      "\n",
      "INFO:tensorflow:E:\\Aditya\\AnkurSir\\new CFCC\\Models\\Model_39 is not in all_model_checkpoint_paths. Manually adding it.\n",
      "iteration    40 \n",
      "\n",
      "FRR   0.15394736842105264  FAR    0.15473684210526314    mid    1.67967276871\n",
      " develop eer   0.15394736842105264\n",
      "\n",
      "INFO:tensorflow:E:\\Aditya\\AnkurSir\\new CFCC\\Models\\Model_40 is not in all_model_checkpoint_paths. Manually adding it.\n",
      "iteration    41 \n",
      "\n",
      "FRR   0.15394736842105264  FAR    0.15368421052631578    mid    0.93180612723\n",
      " develop eer   0.15394736842105264\n",
      "\n",
      "INFO:tensorflow:E:\\Aditya\\AnkurSir\\new CFCC\\Models\\Model_41 is not in all_model_checkpoint_paths. Manually adding it.\n",
      "iteration    42 \n",
      "\n",
      "FRR   0.15526315789473685  FAR    0.15578947368421053    mid    1.40647232213\n",
      " develop eer   0.15526315789473685\n",
      "\n",
      "INFO:tensorflow:E:\\Aditya\\AnkurSir\\new CFCC\\Models\\Model_42 is not in all_model_checkpoint_paths. Manually adding it.\n",
      "iteration    43 \n",
      "\n",
      "FRR   0.1394736842105263  FAR    0.13894736842105262    mid    4.71337434429\n",
      " develop eer   0.1394736842105263\n",
      "\n",
      "INFO:tensorflow:E:\\Aditya\\AnkurSir\\new CFCC\\Models\\Model_43 is not in all_model_checkpoint_paths. Manually adding it.\n",
      "iteration    44 \n",
      "\n",
      "FRR   0.14342105263157895  FAR    0.14421052631578948    mid    3.62503618497\n",
      " develop eer   0.14342105263157895\n",
      "\n",
      "INFO:tensorflow:E:\\Aditya\\AnkurSir\\new CFCC\\Models\\Model_44 is not in all_model_checkpoint_paths. Manually adding it.\n",
      "iteration    45 \n",
      "\n",
      "FRR   0.1368421052631579  FAR    0.1368421052631579    mid    4.38094642824\n",
      " develop eer   0.1368421052631579\n",
      "\n",
      "INFO:tensorflow:E:\\Aditya\\AnkurSir\\new CFCC\\Models\\Model_45 is not in all_model_checkpoint_paths. Manually adding it.\n",
      "iteration    46 \n",
      "\n",
      "FRR   0.14078947368421052  FAR    0.14    mid    4.21794575728\n",
      " develop eer   0.14078947368421052\n",
      "\n",
      "INFO:tensorflow:E:\\Aditya\\AnkurSir\\new CFCC\\Models\\Model_46 is not in all_model_checkpoint_paths. Manually adding it.\n",
      "iteration    47 \n",
      "\n",
      "FRR   0.14210526315789473  FAR    0.1431578947368421    mid    4.52994249867\n",
      " develop eer   0.14210526315789473\n",
      "\n",
      "INFO:tensorflow:E:\\Aditya\\AnkurSir\\new CFCC\\Models\\Model_47 is not in all_model_checkpoint_paths. Manually adding it.\n",
      "iteration    48 \n",
      "\n",
      "FRR   0.14210526315789473  FAR    0.14105263157894737    mid    4.91991601211\n",
      " develop eer   0.14210526315789473\n",
      "\n",
      "INFO:tensorflow:E:\\Aditya\\AnkurSir\\new CFCC\\Models\\Model_48 is not in all_model_checkpoint_paths. Manually adding it.\n",
      "iteration    49 \n",
      "\n",
      "FRR   0.14210526315789473  FAR    0.14105263157894737    mid    4.86742095959\n",
      " develop eer   0.14210526315789473\n",
      "\n",
      "INFO:tensorflow:E:\\Aditya\\AnkurSir\\new CFCC\\Models\\Model_49 is not in all_model_checkpoint_paths. Manually adding it.\n",
      "iteration    50 \n",
      "\n",
      "FRR   0.14342105263157895  FAR    0.1431578947368421    mid    5.38385787042\n",
      " develop eer   0.14342105263157895\n",
      "\n"
     ]
    }
   ],
   "source": [
    "#Training and testing accuracy\n",
    "session.run(init)\n",
    "\n",
    "if not os.path.exists(model_path):\n",
    "    os.makedirs(model_path)\n",
    "    \n",
    "if not os.path.exists(dev_sp_path):\n",
    "    os.makedirs(dev_sp_path)\n",
    "    \n",
    "batches = (len(list(os.listdir(features_path))))//2\n",
    "    \n",
    "for i in range(0,50):\n",
    "    for j in range(1,batches+1):  #number of batches\n",
    "        filename = \"batch_\"+str(j)+\".npy\"\n",
    "        labelsname= \"label_\"+str(j)+\".npy\"\n",
    "        \n",
    "        features = np.load(os.path.join(features_path, filename))\n",
    "        labels = np.load(os.path.join(features_path, labelsname))\n",
    "        \n",
    "#         print(np.sum(np.isnan(features)))\n",
    "#         print(np.sum(np.isnan(labels)))\n",
    "        \n",
    "        train_step.run(session = session,feed_dict={ x:features, y:labels, keep_prob:1.0})\n",
    "        #train_step.run(session = session,feed_dict={ x:features[1024:], y:labels[1024:], keep_prob:1.0})\n",
    "        \n",
    "    save_path = saver.save(session, os.path.join(model_path,'Model_'+str(i))) \n",
    "    print(\"iteration   \",(i+1),\"\\n\")\n",
    "    eer_dev = get_EER(development_path, (i+1), dev_sp_path)\n",
    "    print(\" develop eer  \",eer_dev)\n",
    "    print()\n",
    "    \n",
    "    "
   ]
  },
  {
   "cell_type": "raw",
   "metadata": {},
   "source": [
    "for i in range(10,50):\n",
    "    for j in range(1,batches+1):  #number of batches\n",
    "        filename = \"batch_\"+str(j)+\".npy\"\n",
    "        labelsname= \"label_\"+str(j)+\".npy\"\n",
    "        \n",
    "        features = np.load(os.path.join(features_path, filename))\n",
    "        labels = np.load(os.path.join(features_path, labelsname))\n",
    "        \n",
    "#         print(np.sum(np.isnan(features)))\n",
    "#         print(np.sum(np.isnan(labels)))\n",
    "        \n",
    "        train_step.run(session = session,feed_dict={ x:features, y:labels, keep_prob:1.0})\n",
    "        #train_step.run(session = session,feed_dict={ x:features[1024:], y:labels[1024:], keep_prob:1.0})\n",
    "        \n",
    "    save_path = saver.save(session, os.path.join(model_path,'Model_'+str(i))) \n",
    "    print(\"iteration   \",(i+1),\"\\n\")\n",
    "    eer_dev = get_EER(development_path, (i+1), dev_sp_path)\n",
    "    print(\" develop eer  \",eer_dev)\n",
    "    print()\n",
    "        "
   ]
  },
  {
   "cell_type": "raw",
   "metadata": {},
   "source": [
    "import time\n",
    "time.sleep(21600)"
   ]
  },
  {
   "cell_type": "code",
   "execution_count": null,
   "metadata": {},
   "outputs": [],
   "source": [
    "# config = tf.ConfigProto()\n",
    "# config.gpu_options.allow_growth=True\n",
    "eval_features_path = 'E:\\\\Aditya\\\\AnkurSir\\\\CFCC_IF\\\\36D\\\\evaloverlapData_36D'\n",
    "eval_sp_path = 'E:\\\\Aditya\\\\AnkurSir\\\\CFCC_IF\\\\36D\\\\Eval_CNN'\n",
    "\n",
    "if not os.path.exists(eval_sp_path):\n",
    "    os.makedirs(eval_sp_path)\n",
    "    \n",
    "with tf.Session() as session:\n",
    "    for i in range(10,35):\n",
    "        saver.restore(session, os.path.join(model_path,'Model_'+str(i)))\n",
    "        print(\"iteration  \",(i+1))\n",
    "        eer_eval = get_EER(eval_features_path, (i+1), eval_sp_path)\n",
    "        print(\" evaluation eer  \",eer_eval)\n",
    "        print()\n",
    "        "
   ]
  },
  {
   "cell_type": "code",
   "execution_count": null,
   "metadata": {},
   "outputs": [],
   "source": [
    "with tf.Session() as session:\n",
    "    for i in range(35,50):\n",
    "        saver.restore(session, os.path.join(model_path,'Model_'+str(i)))\n",
    "        print(\"iteration  \",(i+1))\n",
    "        eer_eval = get_EER(eval_features_path, (i+1), eval_sp_path)\n",
    "        print(\" evaluation eer  \",eer_eval)\n",
    "        print()"
   ]
  },
  {
   "cell_type": "raw",
   "metadata": {
    "scrolled": true
   },
   "source": [
    "saver.restore(session, model_path +str(24))\n",
    "batches = (len(list(os.listdir(features_path))))//2\n",
    "    \n",
    "for i in range(25,50):\n",
    "    for j in range(1,batches+1):  #number of batches\n",
    "        filename = \"batch_\"+str(j)+\".npy\"\n",
    "        labelsname= \"label_\"+str(j)+\".npy\"\n",
    "        \n",
    "        features = np.load(os.path.join(features_path, filename))\n",
    "        labels = np.load(os.path.join(features_path, labelsname))\n",
    "\n",
    "        train_step.run(session = session,feed_dict={ x:features[:1024], y:labels[:1024], keep_prob:1.0})\n",
    "        train_step.run(session = session,feed_dict={ x:features[1024:], y:labels[1024:], keep_prob:1.0})\n",
    "        \n",
    "    print(\"iteration   \",(i+1),\"\\n\")\n",
    "    #test_accuracy = accuracy.eval(session = session, feed_dict = { x:test_features, y:test_labels, keep_prob:1.0 })\n",
    "    #print(\"iteration   \",(i+1),\"   dev_accuracy    \",test_accuracy)    \n",
    "    #print()\n",
    "    save_path = saver.save(session, model_path +str(i))\n",
    "    "
   ]
  },
  {
   "cell_type": "raw",
   "metadata": {
    "scrolled": true
   },
   "source": [
    "config = tf.ConfigProto()\n",
    "config.gpu_options.allow_growth=True\n",
    "\n",
    "with tf.Session(config=config) as session:\n",
    "    for i in range(25,50):\n",
    "        saver.restore(session, model_path +str(i))\n",
    "        print(\"iteration  \",(i+1))\n",
    "        eer_dev = get_EER(development_path, (i+1), dev_sp_path)\n",
    "        print(\" develop eer  \",eer_dev)\n",
    "        print()"
   ]
  },
  {
   "cell_type": "raw",
   "metadata": {},
   "source": [
    "from scipy.io import savemat\n",
    "\n",
    "def get_ind_score(test_path, index, sp_path, tag ):\n",
    "    two_scores = []\n",
    "    \n",
    "    for folders in os.listdir(test_path):\n",
    "        features = np.load(os.path.join(test_path, folders, \"feature_image.npy\"))\n",
    "        labels = np.load(os.path.join(test_path, folders, \"label_image.npy\"))\n",
    "        patches = labels.shape[0]\n",
    "        patch_prob = session.run(output1, feed_dict = {x:features, keep_prob : 1.0})\n",
    "        final_prob = np.zeros([2])\n",
    "        \n",
    "        for i in range(patches):\n",
    "            if(patch_prob[i][0] == 0):\n",
    "                patch_prob[i][0] = 1e-25\n",
    "            if(patch_prob[i][1] == 0):\n",
    "                patch_prob[i][1] = 1e-25\n",
    "                \n",
    "            final_prob[0] = final_prob[0] + np.log(patch_prob[i][0])\n",
    "            final_prob[1] = final_prob[1] + np.log(patch_prob[i][1])\n",
    "\n",
    "        final_prob = final_prob / patches\n",
    "        two_scores.append(final_prob)\n",
    "\n",
    "    two_scores = np.array(two_scores)\n",
    "    score_path = os.path.join(sp_path, tag+\"_ind_scores\")\n",
    "    \n",
    "    if not os.path.exists(score_path):\n",
    "        os.makedirs(score_path)\n",
    "        \n",
    "    sc_file = \"llk_genuine_llk_spoof_\"+tag+\"_\"+str(index)\n",
    "    savemat(os.path.join(score_path, sc_file), {'ind_scores':two_scores} )\n",
    "    print(\"Done\")\n",
    "    \n",
    "    \n",
    "config = tf.ConfigProto()\n",
    "config.gpu_options.allow_growth=True\n",
    "\n",
    "dev_ite  = 90\n",
    "eval_ite = \n",
    "with tf.Session() as session:\n",
    "    saver.restore(session, model_path +str(dev_ite-1))\n",
    "    print(\"iteration  \",(dev_ite))\n",
    "    get_ind_score(development_path, (dev_ite), dev_sp_path,\"dev\")\n",
    "    \n",
    "    saver.restore(session, model_path +str(eval_ite-1))\n",
    "    print(\"iteration  \",(eval_ite))\n",
    "    get_ind_score(evaluation_path, (eval_ite), eva_sp_path,\"eval\")\n",
    "    \n",
    "    print()    \n",
    "    "
   ]
  },
  {
   "cell_type": "raw",
   "metadata": {},
   "source": [
    "with tf.Session() as session:\n",
    "    for i in range(55, 75):\n",
    "        saver.restore(session, model_path +str(i))\n",
    "        print(\"iteration  \",(i+1))\n",
    "        eer_eval = get_EER(evaluation_path, (i+1), eva_sp_path)\n",
    "        print(\" evaluat eer  \",eer_eval)\n",
    "        print()"
   ]
  }
 ],
 "metadata": {
  "kernelspec": {
   "display_name": "Python 3",
   "language": "python",
   "name": "python3"
  },
  "language_info": {
   "codemirror_mode": {
    "name": "ipython",
    "version": 3
   },
   "file_extension": ".py",
   "mimetype": "text/x-python",
   "name": "python",
   "nbconvert_exporter": "python",
   "pygments_lexer": "ipython3",
   "version": "3.6.3"
  }
 },
 "nbformat": 4,
 "nbformat_minor": 2
}
